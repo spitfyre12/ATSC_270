{
 "cells": [
  {
   "cell_type": "markdown",
   "id": "54beb566",
   "metadata": {},
   "source": [
    "# Exam 2\n",
    "## ATSC 270 - Computer Concepts in Meteorology\n",
    "\n",
    "This notebook downloads sounding data from the Iowa Environmental Mesonet (IEM) archive and plots the sounding on a Skew-T Log-P diagram.\n",
    "\n",
    "The notebook does not work correctly.  Your exam is to go through the following code and fix any bugs.  Note, this code may include <i><b>logical errors</b></i> - or errors in the logic of the code.  The code may run, but provide incorrect output.  This includes incorrect unit conversions."
   ]
  },
  {
   "cell_type": "code",
   "execution_count": null,
   "id": "300131a7",
   "metadata": {},
   "outputs": [],
   "source": [
    "#import required libraries\n",
    "import numpy\n",
    "import matplotlib.pyplot as plt\n",
    "import pandas as pd\n",
    "\n",
    "import metpy.calc as mpcalc\n",
    "from metpy.plots import SkewT, Hodograph\n",
    "from metpy.units import units\n",
    "\n",
    "from datetime import datetime"
   ]
  },
  {
   "cell_type": "code",
   "execution_count": null,
   "id": "8b47cb46",
   "metadata": {},
   "outputs": [],
   "source": [
    "# date, time and station of sounding to be plotted\n",
    "year = 2011\n",
    "month = 4\n",
    "day = 27\n",
    "hour = 18\n",
    "\n",
    "station = \"KJAN\""
   ]
  },
  {
   "cell_type": "markdown",
   "id": "04141a28",
   "metadata": {},
   "source": [
    "### Get Sounding Data from the Iowa Environmental Mesonet (IEM) RAOB Archive\n",
    "<u>There will be no errors in this section</u>"
   ]
  },
  {
   "cell_type": "code",
   "execution_count": null,
   "id": "7d8db62a",
   "metadata": {},
   "outputs": [],
   "source": [
    "#get data from Iowa Environmental Mesonet (IEM) RAOB archive\n",
    "\n",
    "#convert date and time to datetime object\n",
    "dt = datetime(year=year,month=month,day=day,hour=hour)\n",
    "\n",
    "#convert datetime object to string to add into the IEM url\n",
    "t = dt.strftime('%Y%m%d%H%M')\n",
    "\n",
    "#define the url\n",
    "url = f\"https://mesonet.agron.iastate.edu/json/raob.py?ts={t}&station={station}\"\n",
    "\n",
    "#read the json sounding data using pandas\n",
    "json = pd.read_json(url)\n",
    "\n",
    "#convert the json sounding to a pandas dataframe\n",
    "df = pd.json_normalize(json.profiles[0],'profile',['station','valid'])\n",
    "\n",
    "#convert the \"valid\" variable to a datetime object\n",
    "df['valid'] = pd.to_datetime(df['valid'])"
   ]
  },
  {
   "cell_type": "markdown",
   "id": "5f3a28c4",
   "metadata": {},
   "source": [
    "### Get Dataframe Ready for Plotting"
   ]
  },
  {
   "cell_type": "code",
   "execution_count": null,
   "id": "bee9344a",
   "metadata": {},
   "outputs": [],
   "source": [
    "### create a new dataframe for just temperature and dewpoint ###\n",
    "\n",
    "#first remove any rows where there is no data\n",
    "df_temp = df.dropna(subset=['tmpc','dwpc'])\n",
    "#next just keep pressure, height, temperature, and dewpoint\n",
    "df_temp = df_temp[['pres','hght','tmpc','dwpc']]\n",
    "\n",
    "### create a new dataframe for just winds ###\n",
    "\n",
    "#first remove any rows where there is no data\n",
    "df_wind = df.dropna(subset=['sknt','drct'])\n",
    "#next just keep pressure, height, temperature, and dewpoint\n",
    "df_wind = df_temp[['pres','hght','sknt','drct']]"
   ]
  },
  {
   "cell_type": "markdown",
   "id": "7cf35e93",
   "metadata": {},
   "source": [
    "### Create Numpy Arrays for Temperature Plotting and Add Units"
   ]
  },
  {
   "cell_type": "code",
   "execution_count": null,
   "id": "98bae9d3",
   "metadata": {},
   "outputs": [],
   "source": [
    "pressure = np.array(df_temp['pres']) * units('hectopascals')\n",
    "height = np.array(df_temp['hght']) * units('meters')\n",
    "temperature = np.array(df_temp['tmpc']) * units('degF')\n",
    "dewpoint = np.array(df_temp['dwpc']) * units('degF')"
   ]
  },
  {
   "cell_type": "markdown",
   "id": "3a139028",
   "metadata": {},
   "source": [
    "### Create Numpy Arrays for Wind Plotting and Add Units"
   ]
  },
  {
   "cell_type": "code",
   "execution_count": null,
   "id": "2221e98a",
   "metadata": {},
   "outputs": [],
   "source": [
    "wind_pressure = np.array(df_temp['pres']) * units('hectopascals')\n",
    "wind_height = np.array(df_temp['hght']) * units('meters')\n",
    "wind_speed = np.array(df_temp['sknt']) * units('knots')\n",
    "wind_direction = np.array(df_temp['drct']) * units('degrees')"
   ]
  },
  {
   "cell_type": "markdown",
   "id": "069a8d5a",
   "metadata": {},
   "source": [
    "### Convert Wind Speed & Direction to U & V"
   ]
  },
  {
   "cell_type": "code",
   "execution_count": null,
   "id": "f46101cd",
   "metadata": {},
   "outputs": [],
   "source": [
    "u,v = mpcalc.wind_components(wind_direction,wind_speed)"
   ]
  },
  {
   "cell_type": "markdown",
   "id": "0deec937",
   "metadata": {},
   "source": [
    "### Make Figure "
   ]
  },
  {
   "cell_type": "code",
   "execution_count": null,
   "id": "acb3f755",
   "metadata": {},
   "outputs": [],
   "source": [
    "#create skew-t figure\n",
    "fig = plt.figure(figsize=(11, 8), dpi=150,facecolor='w')\n",
    "skew = SkewT(fig, rotation=45)\n",
    "\n",
    "#plot temperature in red and dewpoint in green\n",
    "skew.plot(pressure, temperature, 'g',lw=4)\n",
    "skew.plot(pressure, dewpoint, 'r',lw=4)\n",
    "\n",
    "#create axes labels\n",
    "plt.xlabel('TEMPERATURE (\\N{degree sign}C)',fontsize=15)\n",
    "plt.ylabel('PRESSURE (hPa)',fontsize=15)\n",
    "\n",
    "#add in typical lines\n",
    "skew.plot_dry_adiabats()\n",
    "skew.plot_moist_adiabats()\n",
    "skew.plot_mixing_lines()\n",
    "\n",
    "#plot winds \n",
    "#only plot every other wind barb so it's not too busy\n",
    "#(y_clip_radius keeps barbs from plotting outside of skew-t)\n",
    "ax.plot_barbs(pressure[:2],u[:2],v[:2],y_clip_radius=0)\n",
    "\n",
    "#add title for date and location\n",
    "plt.title(f'{station}\\n%04i-%02i-%02i %02iZ'%(year,month,day,hour), fontsize=20)\n",
    "\n",
    "#save figure\n",
    "fig.tight_layout()\n",
    "plt.savefig(f'{station}_%04i%02i%02i_%02i.png'%(year,month,day,hour))"
   ]
  },
  {
   "cell_type": "code",
   "execution_count": null,
   "id": "f5f73d85",
   "metadata": {},
   "outputs": [],
   "source": []
  }
 ],
 "metadata": {
  "kernelspec": {
   "display_name": "Python 3 (ipykernel)",
   "language": "python",
   "name": "python3"
  },
  "language_info": {
   "codemirror_mode": {
    "name": "ipython",
    "version": 3
   },
   "file_extension": ".py",
   "mimetype": "text/x-python",
   "name": "python",
   "nbconvert_exporter": "python",
   "pygments_lexer": "ipython3",
   "version": "3.9.12"
  }
 },
 "nbformat": 4,
 "nbformat_minor": 5
}
