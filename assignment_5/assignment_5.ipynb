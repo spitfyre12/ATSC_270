{
 "cells": [
  {
   "cell_type": "markdown",
   "id": "bd61f82f",
   "metadata": {},
   "source": [
    "# ASSIGNMENT #5 - UPPER AIR DATA #\n",
    "Due: 08 April 2024 @ 11:59p"
   ]
  },
  {
   "cell_type": "markdown",
   "id": "816b3dd4",
   "metadata": {},
   "source": [
    "Purpose:\\\n",
    "The purpose of this assignment is to first collect data from an online archive using a user-created function.  The data is then plotted on a map to continue to familiarize with plotting weather data on maps.  \n",
    "\n",
    "Overview:\\\n",
    "In this assignment you will read in rawinsonde observations in a function and plot that data.\n",
    "\n",
    "\n",
    "| | UPDATE TO YOUR INFORMATION | \n",
    "| :- | :- |\n",
    "| Created By | Jared W. Marquis |\n",
    "| Creation Date | 21 January 2024 |\n",
    "| Course | ATSC 270 - Computer Concepts in Meteorology |"
   ]
  },
  {
   "cell_type": "code",
   "execution_count": null,
   "id": "eb870142",
   "metadata": {},
   "outputs": [],
   "source": [
    "### UPDATE TO YOUR INFORMATION ###\n",
    "#information allowing anyone with the code to print the author and contact information\n",
    "__author__    = \"Rebecca Jacoby\"\n",
    "__contact__   = \"rebecca.jacoby@ndus.edu\""
   ]
  },
  {
   "cell_type": "markdown",
   "id": "7dec3f1b",
   "metadata": {},
   "source": [
    "### IMPORT REQUIRED LIBRARIES ###"
   ]
  },
  {
   "cell_type": "code",
   "execution_count": 3,
   "id": "b4b5cb45",
   "metadata": {},
   "outputs": [
    {
     "ename": "SyntaxError",
     "evalue": "expected ':' (assignment_5_functions.py, line 23)",
     "output_type": "error",
     "traceback": [
      "Traceback \u001b[0;36m(most recent call last)\u001b[0m:\n",
      "\u001b[0m  File \u001b[1;32m~/miniconda3/envs/atsc270/lib/python3.11/site-packages/IPython/core/interactiveshell.py:3553\u001b[0m in \u001b[1;35mrun_code\u001b[0m\n    exec(code_obj, self.user_global_ns, self.user_ns)\u001b[0m\n",
      "\u001b[0;36m  Cell \u001b[0;32mIn[3], line 4\u001b[0;36m\n\u001b[0;31m    from assignment_5_functions import get_raobs, select_press\u001b[0;36m\n",
      "\u001b[0;36m  File \u001b[0;32m~/ATSC_270/assignment_5/assignment_5_functions.py:23\u001b[0;36m\u001b[0m\n\u001b[0;31m    def select_press(data: pandas.DataFrame, press_lev) -> pandas.DataFrame\u001b[0m\n\u001b[0m                                                                           ^\u001b[0m\n\u001b[0;31mSyntaxError\u001b[0m\u001b[0;31m:\u001b[0m expected ':'\n"
     ]
    }
   ],
   "source": [
    "import numpy as np\n",
    "from datetime import datetime\n",
    "\n",
    "from assignment_5_functions import get_raobs, select_press\n",
    "\n",
    "import metpy.calc as mpcalc\n",
    "from metpy.units import units\n",
    "from metpy.plots import StationPlot\n",
    "from metpy.interpolate import interpolate_to_grid, remove_nan_observations\n",
    "\n",
    "import matplotlib.pyplot as plt\n",
    "\n",
    "import cartopy.crs as ccrs\n",
    "import cartopy.feature as cfeature\n"
   ]
  },
  {
   "cell_type": "markdown",
   "id": "1df8fe8f",
   "metadata": {},
   "source": [
    "### DOWNLOAD OBSERVATIONS FROM  FILE ###\n",
    "RAwinsonde OBservations (RAOBs) are available from the Iowa State Environmental Mesonet (IEM) archive.  This data can be accessed using the siphon module.  All this will be done within the assignment_5_functions file.  Note, RAOBs don't specify latitude/longitude so we need to add it using a metpy function -> *add_station_lat_lon(data)*."
   ]
  },
  {
   "cell_type": "code",
   "execution_count": 4,
   "id": "808daf73",
   "metadata": {},
   "outputs": [
    {
     "ename": "NameError",
     "evalue": "name 'get_raobs' is not defined",
     "output_type": "error",
     "traceback": [
      "\u001b[0;31m---------------------------------------------------------------------------\u001b[0m",
      "\u001b[0;31mNameError\u001b[0m                                 Traceback (most recent call last)",
      "Cell \u001b[0;32mIn[4], line 5\u001b[0m\n\u001b[1;32m      1\u001b[0m \u001b[38;5;66;03m#grab data from 00Z on 26 December 2023\u001b[39;00m\n\u001b[1;32m      3\u001b[0m dt \u001b[38;5;241m=\u001b[39m datetime(\u001b[38;5;241m2023\u001b[39m,\u001b[38;5;241m12\u001b[39m,\u001b[38;5;241m26\u001b[39m,\u001b[38;5;241m0\u001b[39m)\n\u001b[0;32m----> 5\u001b[0m data \u001b[38;5;241m=\u001b[39m get_raobs(dt)\n\u001b[1;32m      6\u001b[0m \u001b[38;5;28mprint\u001b[39m(data)\n",
      "\u001b[0;31mNameError\u001b[0m: name 'get_raobs' is not defined"
     ]
    }
   ],
   "source": [
    "#grab data from 00Z on 26 December 2023\n",
    "\n",
    "dt = datetime(2023,12,26,0)\n",
    "\n",
    "data = get_raobs(dt)\n",
    "print(data)"
   ]
  },
  {
   "cell_type": "markdown",
   "id": "e869f715",
   "metadata": {},
   "source": [
    "### SUBSET TO 500MB OBS ###\n",
    "We'll also do this within a function in the assignment_5_functions file."
   ]
  },
  {
   "cell_type": "code",
   "execution_count": 1,
   "id": "90ef7d36",
   "metadata": {},
   "outputs": [
    {
     "ename": "NameError",
     "evalue": "name 'select_press' is not defined",
     "output_type": "error",
     "traceback": [
      "\u001b[0;31m---------------------------------------------------------------------------\u001b[0m",
      "\u001b[0;31mNameError\u001b[0m                                 Traceback (most recent call last)",
      "Cell \u001b[0;32mIn[1], line 2\u001b[0m\n\u001b[1;32m      1\u001b[0m \u001b[38;5;66;03m#subset these just to the 500 mb level\u001b[39;00m\n\u001b[0;32m----> 2\u001b[0m data_500 \u001b[38;5;241m=\u001b[39m select_press(data,\u001b[38;5;241m500\u001b[39m)\n\u001b[1;32m      3\u001b[0m \u001b[38;5;28mprint\u001b[39m(data,\u001b[38;5;241m500\u001b[39m)\n",
      "\u001b[0;31mNameError\u001b[0m: name 'select_press' is not defined"
     ]
    }
   ],
   "source": [
    "#subset these just to the 500 mb level\n",
    "data_500 = select_press(data,500)\n",
    "print(data,500)\n",
    "#this prints all the rows that include 500 mb for pressure."
   ]
  },
  {
   "cell_type": "markdown",
   "id": "433c0828",
   "metadata": {},
   "source": [
    "### PLOT DATA MAP ###\n",
    "Use the same map of CONUS as we did for the beginning of surface obs.<br>\n",
    "No need to thin obs as there aren't a ton of RAOBs."
   ]
  },
  {
   "cell_type": "code",
   "execution_count": null,
   "id": "bd3f91d8",
   "metadata": {},
   "outputs": [],
   "source": [
    "#map projection jusing a Lambert Conformal Projection\n",
    "#we'll center the map at 100W,35N\n",
    "proj = ccrs.LambertConformal(central_longitude=-100,central_latitude=35)\n",
    "\n",
    "#create 10\" x 10\" figure with a dpi=100\n",
    "fig = plt.figure(figsize=(10,10),dpi=100)\n",
    "\n",
    "#add subplot with projection\n",
    "ax = fig.add_subplot(1,1,1,projection=proj)\n",
    "\n",
    "#add elements to make map more useable\n",
    "ax.add_feature(cfeature.COASTLINE)\n",
    "ax.add_feature(cfeature.STATES)\n",
    "ax.add_feature(cfeature.BORDERS)\n",
    "\n",
    "#zoom on the CONUS\n",
    "#lon_min = -120\n",
    "#lon_max = -75\n",
    "#lat_min = 23\n",
    "#lat_max = 50\n",
    "ax.set_extent((-120, -75, 23, 50))\n",
    "\n",
    "\n",
    "#create stationplots\n",
    "stationplots = StationPlot(ax,data['longitude'],data['latitude'],transform=ccrs.PlateCarree(), clip_on=True)\n",
    "\n",
    "\n",
    "\n",
    "#temperature in red\n",
    "stationplots.plot_parameter((-1,1), data['air_temperature'].values, color='red')\n",
    "\n",
    "#dewpoint DEPRESSION in dark green\n",
    "stationplots.plot_parameter((-1,-1), data['dew_point_temperature'].values,color='darkgreen')\n",
    "simple_layout.plot(stationplots, data)\n",
    "\n",
    "#height (need to format to be the first 3 digits)\n",
    "stationplots.plot_parameters()\n",
    "\n",
    "#station ID in dark blue\n",
    "stationplots.plot_text((1.5,-1), data['station_id'].values,color='darkblue')\n",
    "\n",
    "#wind in black\n",
    "stationplots.plot_barb(u,v, color='black', zorder=10)\n",
    "\n",
    "fig.tight_layout()\n",
    "\n",
    "#save the map as upper_air_500.png\n",
    "plt.savefig('upper_air_500.png')\n"
   ]
  },
  {
   "cell_type": "markdown",
   "id": "849f6f41",
   "metadata": {},
   "source": [
    "### CREATE 500mb HEIGHT CONTOURS (ISOHYPSES) ###"
   ]
  },
  {
   "cell_type": "code",
   "execution_count": null,
   "id": "77fabd62",
   "metadata": {},
   "outputs": [],
   "source": [
    "#convert the data to x, y, and z locations on the projected map\n",
    "\n",
    "#remove nans\n",
    "\n",
    "#interpolate the data to a grid\n"
   ]
  },
  {
   "cell_type": "markdown",
   "id": "eb2ab22a",
   "metadata": {},
   "source": [
    "### PLOT UPPER AIR STATION PLOTS & CONTOURS ###"
   ]
  },
  {
   "cell_type": "code",
   "execution_count": null,
   "id": "671abac0",
   "metadata": {},
   "outputs": [],
   "source": [
    "\n",
    "#temperature in red\n",
    "\n",
    "#dewpoint DEPRESSION in dark green\n",
    "\n",
    "#height (need to format to be the first 3 digits)\n",
    "\n",
    "#station ID in dark blue\n",
    "\n",
    "#wind in black\n",
    "\n",
    "\n",
    "#plot contours from 4600m to 6000m with 60m interval\n",
    "\n",
    "#add a title with the date\n",
    "\n",
    "\n",
    "#save the map as contour_500.png\n"
   ]
  },
  {
   "cell_type": "code",
   "execution_count": null,
   "id": "73508f99",
   "metadata": {},
   "outputs": [],
   "source": []
  }
 ],
 "metadata": {
  "kernelspec": {
   "display_name": "Python 3 (ipykernel)",
   "language": "python",
   "name": "python3"
  },
  "language_info": {
   "codemirror_mode": {
    "name": "ipython",
    "version": 3
   },
   "file_extension": ".py",
   "mimetype": "text/x-python",
   "name": "python",
   "nbconvert_exporter": "python",
   "pygments_lexer": "ipython3",
   "version": "3.11.7"
  }
 },
 "nbformat": 4,
 "nbformat_minor": 5
}
