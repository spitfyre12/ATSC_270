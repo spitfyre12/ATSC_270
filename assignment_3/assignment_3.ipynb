{
 "cells": [
  {
   "cell_type": "markdown",
   "id": "bd61f82f",
   "metadata": {},
   "source": [
    "# ASSIGNMENT #3 - ATMOSPHERIC SOUNDINGS #\n",
    "Due: 04 March 2023 @ 11:59p"
   ]
  },
  {
   "cell_type": "markdown",
   "id": "816b3dd4",
   "metadata": {},
   "source": [
    "Purpose:\\\n",
    "The purpose of this assignment is to continue to strengthen skills with reading in data and begin to familiarize with plotting data on standard plots, skew-t log-p diagrams and hodographs.\n",
    "\n",
    "Overview:\\\n",
    "In this assignment you will read in atmospheric sounding data and plot that data using several methods.\n",
    "\n",
    "\n",
    "| | UPDATE TO YOUR INFORMATION | \n",
    "| :- | :- |\n",
    "| Created By | Jared W. Marquis |\n",
    "| Creation Date | 17 January 2024 |\n",
    "| Course | ATSC 270 - Computer Concepts in Meteorology |"
   ]
  },
  {
   "cell_type": "code",
   "execution_count": null,
   "id": "eb870142",
   "metadata": {},
   "outputs": [],
   "source": [
    "### UPDATE TO YOUR INFORMATION ###\n",
    "#information allowing anyone with the code to print the author and contact information\n",
    "__author__    = \"Rebecca Jacoby\"\n",
    "__contact__   = \"rebecca.jacoby@ndus.edu\""
   ]
  },
  {
   "cell_type": "markdown",
   "id": "7dec3f1b",
   "metadata": {},
   "source": [
    "### IMPORT REQUIRED LIBRARIES ###"
   ]
  },
  {
   "cell_type": "code",
   "execution_count": 13,
   "id": "b4b5cb45",
   "metadata": {},
   "outputs": [],
   "source": [
    "import numpy as np\n",
    "import metpy.calc as mpcalc\n",
    "from metpy.units import units\n",
    "from metpy.plots import Hodograph, SkewT\n",
    "import pandas as pd\n",
    "import matplotlib.pyplot as plt\n",
    "import matplotlib.gridspec as gridspec"
   ]
  },
  {
   "cell_type": "markdown",
   "id": "1df8fe8f",
   "metadata": {},
   "source": [
    "### OPEN SOUNDING CSV FILE ###\n",
    "Open the CSV file you created last lab.  Make sure to copy it into this directory."
   ]
  },
  {
   "cell_type": "code",
   "execution_count": 14,
   "id": "808daf73",
   "metadata": {},
   "outputs": [
    {
     "name": "stdout",
     "output_type": "stream",
     "text": [
      "    pressure[mb]  height[m]  temperature[degC]  dewpoint[degC]  u-wind[m/s]  \\\n",
      "0         1000.0      355.0                NaN             NaN          NaN   \n",
      "1          959.0      649.0              -25.3           -28.8          NaN   \n",
      "2          949.0      726.0              -24.1           -27.6          NaN   \n",
      "3          936.0      826.0              -22.7           -28.7          NaN   \n",
      "4          925.0      915.0              -22.9           -28.9         2.98   \n",
      "5          898.0     1131.0              -22.9           -28.9          NaN   \n",
      "6          851.0     1526.0              -21.3           -35.3          NaN   \n",
      "7          850.0     1536.0              -21.3           -35.3         2.57   \n",
      "8          763.0     2328.0              -22.5           -40.5          NaN   \n",
      "9          730.0     2651.0              -24.1           -41.1          NaN   \n",
      "10         721.0     2741.0              -23.1           -41.1          NaN   \n",
      "11         707.0     2884.0              -22.9           -41.9          NaN   \n",
      "12         700.0     2961.0              -23.3           -43.3         7.83   \n",
      "13         610.0     3960.0              -25.9           -43.9          NaN   \n",
      "14         510.0     5231.0              -34.3           -52.3          NaN   \n",
      "15         500.0     5370.0              -34.5           -52.5        15.87   \n",
      "16         463.0     5906.0              -34.5           -52.5          NaN   \n",
      "17         423.0     6530.0              -38.5           -53.5          NaN   \n",
      "18         409.0     6761.0              -38.7           -53.7          NaN   \n",
      "19         400.0     6920.0              -39.9           -54.9        19.71   \n",
      "20         300.0     8820.0              -54.7           -66.7        16.64   \n",
      "21         255.0     9842.0              -58.1           -69.1          NaN   \n",
      "22         250.0     9970.0              -58.3           -69.3        20.59   \n",
      "23         228.0    10548.0              -58.5           -69.5          NaN   \n",
      "24         214.0    10946.0              -57.7           -68.7          NaN   \n",
      "25         209.0    11095.0              -56.5           -68.5          NaN   \n",
      "26         200.0    11380.0              -56.7           -68.7        21.52   \n",
      "27         192.0    11637.0              -57.7           -69.7          NaN   \n",
      "28         183.0    11939.0              -57.5           -69.5          NaN   \n",
      "29         175.0    12219.0              -59.1           -70.1          NaN   \n",
      "30         168.0    12474.0              -59.7           -70.7          NaN   \n",
      "31         163.0    12662.0              -59.9           -70.9          NaN   \n",
      "32         156.0    12936.0              -58.7           -69.7          NaN   \n",
      "33         150.0    13190.0              -58.9           -69.9        17.77   \n",
      "34         141.0    13577.0              -59.5           -70.5          NaN   \n",
      "35         130.0    14084.0              -59.1           -70.1          NaN   \n",
      "36         111.0    15064.0              -62.5           -73.5          NaN   \n",
      "37         106.0    15348.0              -61.9           -72.9          NaN   \n",
      "38         104.0    15465.0              -62.7           -73.7          NaN   \n",
      "39         100.0    15710.0              -61.7           -72.7        25.97   \n",
      "40          91.5    16259.0              -61.5           -72.5          NaN   \n",
      "41          78.4    17204.0              -66.1           -76.1          NaN   \n",
      "42          70.0    17900.0              -65.9           -75.9        35.29   \n",
      "43          68.6    18022.0              -65.9           -75.9          NaN   \n",
      "44          57.6    19071.0              -69.3           -79.3          NaN   \n",
      "45          52.0    19680.0              -69.1           -79.1          NaN   \n",
      "46          50.0    19920.0              -68.1           -78.1        35.71   \n",
      "47          47.2    20266.0              -66.5           -76.5          NaN   \n",
      "48          30.0    23000.0              -67.9           -77.9        41.83   \n",
      "49          20.0    25420.0              -69.5           -79.5        40.38   \n",
      "50          19.9    25450.0              -69.5           -79.5          NaN   \n",
      "\n",
      "    v-wind[m/s]  \n",
      "0           NaN  \n",
      "1           NaN  \n",
      "2           NaN  \n",
      "3           NaN  \n",
      "4          2.98  \n",
      "5           NaN  \n",
      "6           NaN  \n",
      "7          2.57  \n",
      "8           NaN  \n",
      "9           NaN  \n",
      "10          NaN  \n",
      "11          NaN  \n",
      "12         7.83  \n",
      "13          NaN  \n",
      "14          NaN  \n",
      "15        15.87  \n",
      "16          NaN  \n",
      "17          NaN  \n",
      "18          NaN  \n",
      "19        19.71  \n",
      "20        16.64  \n",
      "21          NaN  \n",
      "22        20.59  \n",
      "23          NaN  \n",
      "24          NaN  \n",
      "25          NaN  \n",
      "26        21.52  \n",
      "27          NaN  \n",
      "28          NaN  \n",
      "29          NaN  \n",
      "30          NaN  \n",
      "31          NaN  \n",
      "32          NaN  \n",
      "33        17.77  \n",
      "34          NaN  \n",
      "35          NaN  \n",
      "36          NaN  \n",
      "37          NaN  \n",
      "38          NaN  \n",
      "39        25.97  \n",
      "40          NaN  \n",
      "41          NaN  \n",
      "42        35.29  \n",
      "43          NaN  \n",
      "44          NaN  \n",
      "45          NaN  \n",
      "46        35.71  \n",
      "47          NaN  \n",
      "48        41.83  \n",
      "49        40.38  \n",
      "50          NaN  \n"
     ]
    }
   ],
   "source": [
    "#open file using pandas\n",
    "data = pd.read_csv(\"KBIS_sounding.csv\", delimiter=',', skiprows=1)\n",
    "print(data)"
   ]
  },
  {
   "cell_type": "markdown",
   "id": "7c16f59b",
   "metadata": {},
   "source": [
    "### EXTRACT VARIABLES AND ADD UNITS ###\n",
    "make sure winds are converted to knots"
   ]
  },
  {
   "cell_type": "code",
   "execution_count": 17,
   "id": "11986b6a",
   "metadata": {},
   "outputs": [
    {
     "name": "stdout",
     "output_type": "stream",
     "text": [
      "KBIS - 2009-01-15 12:00:00\n",
      "\n",
      "[1000.0 959.0 949.0 936.0 925.0 898.0 851.0 850.0 763.0 730.0 721.0 707.0 700.0 610.0 510.0 500.0 463.0 423.0 409.0 400.0 300.0 255.0 250.0 228.0 214.0 209.0 200.0 192.0 183.0 175.0 168.0 163.0 156.0 150.0 141.0 130.0 111.0 106.0 104.0 100.0 91.5 78.4 70.0 68.6 57.6 52.0 50.0 47.2 30.0 20.0 19.9] millibar\n",
      "[355.0 649.0 726.0 826.0 915.0 1131.0 1526.0 1536.0 2328.0 2651.0 2741.0 2884.0 2961.0 3960.0 5231.0 5370.0 5906.0 6530.0 6761.0 6920.0 8820.0 9842.0 9970.0 10548.0 10946.0 11095.0 11380.0 11637.0 11939.0 12219.0 12474.0 12662.0 12936.0 13190.0 13577.0 14084.0 15064.0 15348.0 15465.0 15710.0 16259.0 17204.0 17900.0 18022.0 19071.0 19680.0 19920.0 20266.0 23000.0 25420.0 25450.0] meter\n",
      "[nan -25.3 -24.1 -22.7 -22.9 -22.9 -21.3 -21.3 -22.5 -24.1 -23.1 -22.9 -23.3 -25.9 -34.3 -34.5 -34.5 -38.5 -38.7 -39.9 -54.7 -58.1 -58.3 -58.5 -57.7 -56.5 -56.7 -57.7 -57.5 -59.1 -59.7 -59.9 -58.7 -58.9 -59.5 -59.1 -62.5 -61.9 -62.7 -61.7 -61.5 -66.1 -65.9 -65.9 -69.3 -69.1 -68.1 -66.5 -67.9 -69.5 -69.5] degree_Celsius\n",
      "[nan -28.8 -27.6 -28.7 -28.9 -28.9 -35.3 -35.3 -40.5 -41.1 -41.1 -41.9 -43.3 -43.9 -52.3 -52.5 -52.5 -53.5 -53.7 -54.9 -66.7 -69.1 -69.3 -69.5 -68.7 -68.5 -68.7 -69.7 -69.5 -70.1 -70.7 -70.9 -69.7 -69.9 -70.5 -70.1 -73.5 -72.9 -73.7 -72.7 -72.5 -76.1 -75.9 -75.9 -79.3 -79.1 -78.1 -76.5 -77.9 -79.5 -79.5] degree_Celsius\n",
      "[nan nan nan nan 5.792656587473003 nan nan 4.995680345572354 nan nan nan nan 15.220302375809936 nan nan 30.848812095032397 nan nan nan 38.313174946004324 32.34557235421167 nan 40.02375809935205 nan nan nan 41.83153347732181 nan nan nan nan nan nan 34.54211663066955 nan nan nan nan nan 50.481641468682504 nan nan 68.59827213822895 nan nan nan 69.414686825054 nan 81.3110151187905 78.49244060475164 nan] knot\n",
      "[nan nan nan nan 5.792656587473003 nan nan 4.995680345572354 nan nan nan nan 15.220302375809936 nan nan 30.848812095032397 nan nan nan 38.313174946004324 32.34557235421167 nan 40.02375809935205 nan nan nan 41.83153347732181 nan nan nan nan nan nan 34.54211663066955 nan nan nan nan nan 50.481641468682504 nan nan 68.59827213822895 nan nan nan 69.414686825054 nan 81.3110151187905 78.49244060475164 nan] knot\n"
     ]
    }
   ],
   "source": [
    "#grabs the first line which is the title of the data\n",
    "title = open(\"KBIS_sounding.csv\", 'r').readlines()[0]\n",
    "print(title)\n",
    "\n",
    "\n",
    "#grab each variable and add units\n",
    "\n",
    "pressure_mb = data['pressure[mb]'].values\n",
    "pressure_mb = pressure_mb*units('millibars')\n",
    "print(pressure_mb)\n",
    "\n",
    "\n",
    "height_m = data['height[m]'].values\n",
    "height_m = height_m*units('meters')\n",
    "print(height_m)\n",
    "\n",
    "    \n",
    "tmpc = data['temperature[degC]'].values\n",
    "tmpc = tmpc*units('degC')\n",
    "print(tmpc)\n",
    "\n",
    "\n",
    "dwpc = data['dewpoint[degC]'].values\n",
    "dwpc = dwpc*units('degC')\n",
    "print(dwpc)\n",
    "\n",
    "u = data['u-wind[m/s]'].values\n",
    "u = u*units('m/s')\n",
    "u = u.to('knots')\n",
    "print(u)\n",
    "\n",
    "v = data['v-wind[m/s]'].values\n",
    "v = v*units('m/s')\n",
    "v = v.to('knots')\n",
    "print(v)\n",
    "\n",
    "\n",
    "\n",
    "\n",
    "\n",
    "\n",
    "\n",
    "\n",
    "\n",
    "\n",
    "\n"
   ]
  },
  {
   "cell_type": "markdown",
   "id": "4738eadb",
   "metadata": {},
   "source": [
    "### PLOT TEMPERATURE & DEWPOINT VS HEIGHT ###"
   ]
  },
  {
   "cell_type": "code",
   "execution_count": 23,
   "id": "05bd41f9",
   "metadata": {},
   "outputs": [
    {
     "ename": "ConversionError",
     "evalue": "Failed to convert value(s) to axis units: <Quantity([  nan -28.8 -27.6 -28.7 -28.9 -28.9 -35.3 -35.3 -40.5 -41.1 -41.1 -41.9\n -43.3 -43.9 -52.3 -52.5 -52.5 -53.5 -53.7 -54.9 -66.7 -69.1 -69.3 -69.5\n -68.7 -68.5 -68.7 -69.7 -69.5 -70.1 -70.7 -70.9 -69.7 -69.9 -70.5 -70.1\n -73.5 -72.9 -73.7 -72.7 -72.5 -76.1 -75.9 -75.9 -79.3 -79.1 -78.1 -76.5\n -77.9 -79.5 -79.5], 'degree_Celsius')>",
     "output_type": "error",
     "traceback": [
      "\u001b[0;31m---------------------------------------------------------------------------\u001b[0m",
      "\u001b[0;31mDimensionalityError\u001b[0m                       Traceback (most recent call last)",
      "File \u001b[0;32m~/miniconda3/envs/atsc270/lib/python3.11/site-packages/matplotlib/axis.py:1769\u001b[0m, in \u001b[0;36mAxis.convert_units\u001b[0;34m(self, x)\u001b[0m\n\u001b[1;32m   1768\u001b[0m \u001b[38;5;28;01mtry\u001b[39;00m:\n\u001b[0;32m-> 1769\u001b[0m     ret \u001b[38;5;241m=\u001b[39m \u001b[38;5;28mself\u001b[39m\u001b[38;5;241m.\u001b[39mconverter\u001b[38;5;241m.\u001b[39mconvert(x, \u001b[38;5;28mself\u001b[39m\u001b[38;5;241m.\u001b[39munits, \u001b[38;5;28mself\u001b[39m)\n\u001b[1;32m   1770\u001b[0m \u001b[38;5;28;01mexcept\u001b[39;00m \u001b[38;5;167;01mException\u001b[39;00m \u001b[38;5;28;01mas\u001b[39;00m e:\n",
      "File \u001b[0;32m~/miniconda3/envs/atsc270/lib/python3.11/site-packages/pint/matplotlib.py:39\u001b[0m, in \u001b[0;36mPintConverter.convert\u001b[0;34m(self, value, unit, axis)\u001b[0m\n\u001b[1;32m     38\u001b[0m \u001b[38;5;28;01mif\u001b[39;00m \u001b[38;5;28mhasattr\u001b[39m(value, \u001b[38;5;124m\"\u001b[39m\u001b[38;5;124munits\u001b[39m\u001b[38;5;124m\"\u001b[39m):\n\u001b[0;32m---> 39\u001b[0m     \u001b[38;5;28;01mreturn\u001b[39;00m value\u001b[38;5;241m.\u001b[39mto(unit)\u001b[38;5;241m.\u001b[39mmagnitude\n\u001b[1;32m     40\u001b[0m \u001b[38;5;28;01mif\u001b[39;00m iterable(value):\n",
      "File \u001b[0;32m~/miniconda3/envs/atsc270/lib/python3.11/site-packages/pint/facets/plain/quantity.py:528\u001b[0m, in \u001b[0;36mPlainQuantity.to\u001b[0;34m(self, other, *contexts, **ctx_kwargs)\u001b[0m\n\u001b[1;32m    526\u001b[0m other \u001b[38;5;241m=\u001b[39m to_units_container(other, \u001b[38;5;28mself\u001b[39m\u001b[38;5;241m.\u001b[39m_REGISTRY)\n\u001b[0;32m--> 528\u001b[0m magnitude \u001b[38;5;241m=\u001b[39m \u001b[38;5;28mself\u001b[39m\u001b[38;5;241m.\u001b[39m_convert_magnitude_not_inplace(other, \u001b[38;5;241m*\u001b[39mcontexts, \u001b[38;5;241m*\u001b[39m\u001b[38;5;241m*\u001b[39mctx_kwargs)\n\u001b[1;32m    530\u001b[0m \u001b[38;5;28;01mreturn\u001b[39;00m \u001b[38;5;28mself\u001b[39m\u001b[38;5;241m.\u001b[39m\u001b[38;5;18m__class__\u001b[39m(magnitude, other)\n",
      "File \u001b[0;32m~/miniconda3/envs/atsc270/lib/python3.11/site-packages/pint/facets/plain/quantity.py:472\u001b[0m, in \u001b[0;36mPlainQuantity._convert_magnitude_not_inplace\u001b[0;34m(self, other, *contexts, **ctx_kwargs)\u001b[0m\n\u001b[1;32m    470\u001b[0m         \u001b[38;5;28;01mreturn\u001b[39;00m \u001b[38;5;28mself\u001b[39m\u001b[38;5;241m.\u001b[39m_REGISTRY\u001b[38;5;241m.\u001b[39mconvert(\u001b[38;5;28mself\u001b[39m\u001b[38;5;241m.\u001b[39m_magnitude, \u001b[38;5;28mself\u001b[39m\u001b[38;5;241m.\u001b[39m_units, other)\n\u001b[0;32m--> 472\u001b[0m \u001b[38;5;28;01mreturn\u001b[39;00m \u001b[38;5;28mself\u001b[39m\u001b[38;5;241m.\u001b[39m_REGISTRY\u001b[38;5;241m.\u001b[39mconvert(\u001b[38;5;28mself\u001b[39m\u001b[38;5;241m.\u001b[39m_magnitude, \u001b[38;5;28mself\u001b[39m\u001b[38;5;241m.\u001b[39m_units, other)\n",
      "File \u001b[0;32m~/miniconda3/envs/atsc270/lib/python3.11/site-packages/pint/facets/plain/registry.py:1028\u001b[0m, in \u001b[0;36mGenericPlainRegistry.convert\u001b[0;34m(self, value, src, dst, inplace)\u001b[0m\n\u001b[1;32m   1026\u001b[0m     \u001b[38;5;28;01mreturn\u001b[39;00m value\n\u001b[0;32m-> 1028\u001b[0m \u001b[38;5;28;01mreturn\u001b[39;00m \u001b[38;5;28mself\u001b[39m\u001b[38;5;241m.\u001b[39m_convert(value, src, dst, inplace)\n",
      "File \u001b[0;32m~/miniconda3/envs/atsc270/lib/python3.11/site-packages/pint/facets/context/registry.py:404\u001b[0m, in \u001b[0;36mGenericContextRegistry._convert\u001b[0;34m(self, value, src, dst, inplace)\u001b[0m\n\u001b[1;32m    402\u001b[0m         value, src \u001b[38;5;241m=\u001b[39m src\u001b[38;5;241m.\u001b[39m_magnitude, src\u001b[38;5;241m.\u001b[39m_units\n\u001b[0;32m--> 404\u001b[0m \u001b[38;5;28;01mreturn\u001b[39;00m \u001b[38;5;28msuper\u001b[39m()\u001b[38;5;241m.\u001b[39m_convert(value, src, dst, inplace)\n",
      "File \u001b[0;32m~/miniconda3/envs/atsc270/lib/python3.11/site-packages/pint/facets/nonmultiplicative/registry.py:262\u001b[0m, in \u001b[0;36mGenericNonMultiplicativeRegistry._convert\u001b[0;34m(self, value, src, dst, inplace)\u001b[0m\n\u001b[1;32m    261\u001b[0m \u001b[38;5;28;01mif\u001b[39;00m src_dim \u001b[38;5;241m!=\u001b[39m dst_dim:\n\u001b[0;32m--> 262\u001b[0m     \u001b[38;5;28;01mraise\u001b[39;00m DimensionalityError(src, dst, src_dim, dst_dim)\n\u001b[1;32m    264\u001b[0m \u001b[38;5;66;03m# clean src from offset units by converting to reference\u001b[39;00m\n",
      "\u001b[0;31mDimensionalityError\u001b[0m: Cannot convert from 'degree_Celsius' ([temperature]) to 'meter' ([length])",
      "\nThe above exception was the direct cause of the following exception:\n",
      "\u001b[0;31mConversionError\u001b[0m                           Traceback (most recent call last)",
      "Cell \u001b[0;32mIn[23], line 13\u001b[0m\n\u001b[1;32m      9\u001b[0m ax\u001b[38;5;241m.\u001b[39mplot(tmpc,height_m,color\u001b[38;5;241m=\u001b[39m\u001b[38;5;124m'\u001b[39m\u001b[38;5;124mred\u001b[39m\u001b[38;5;124m'\u001b[39m,label\u001b[38;5;241m=\u001b[39m\u001b[38;5;124m'\u001b[39m\u001b[38;5;124mTEMPERATURE\u001b[39m\u001b[38;5;124m'\u001b[39m)\n\u001b[1;32m     11\u001b[0m \u001b[38;5;66;03m#plot dewpoint in blue\u001b[39;00m\n\u001b[1;32m     12\u001b[0m \u001b[38;5;66;03m#give it the label of DEWPOINT\u001b[39;00m\n\u001b[0;32m---> 13\u001b[0m ax\u001b[38;5;241m.\u001b[39mplot(dwpc, color\u001b[38;5;241m=\u001b[39m\u001b[38;5;124m'\u001b[39m\u001b[38;5;124mblue\u001b[39m\u001b[38;5;124m'\u001b[39m, label\u001b[38;5;241m=\u001b[39m\u001b[38;5;124m'\u001b[39m\u001b[38;5;124mDEWPOINT\u001b[39m\u001b[38;5;124m'\u001b[39m)\n\u001b[1;32m     15\u001b[0m \u001b[38;5;66;03m#add a background grid\u001b[39;00m\n\u001b[1;32m     16\u001b[0m plt\u001b[38;5;241m.\u001b[39mgrid()\n",
      "File \u001b[0;32m~/miniconda3/envs/atsc270/lib/python3.11/site-packages/matplotlib/axes/_axes.py:1723\u001b[0m, in \u001b[0;36mAxes.plot\u001b[0;34m(self, scalex, scaley, data, *args, **kwargs)\u001b[0m\n\u001b[1;32m   1721\u001b[0m lines \u001b[38;5;241m=\u001b[39m [\u001b[38;5;241m*\u001b[39m\u001b[38;5;28mself\u001b[39m\u001b[38;5;241m.\u001b[39m_get_lines(\u001b[38;5;28mself\u001b[39m, \u001b[38;5;241m*\u001b[39margs, data\u001b[38;5;241m=\u001b[39mdata, \u001b[38;5;241m*\u001b[39m\u001b[38;5;241m*\u001b[39mkwargs)]\n\u001b[1;32m   1722\u001b[0m \u001b[38;5;28;01mfor\u001b[39;00m line \u001b[38;5;129;01min\u001b[39;00m lines:\n\u001b[0;32m-> 1723\u001b[0m     \u001b[38;5;28mself\u001b[39m\u001b[38;5;241m.\u001b[39madd_line(line)\n\u001b[1;32m   1724\u001b[0m \u001b[38;5;28;01mif\u001b[39;00m scalex:\n\u001b[1;32m   1725\u001b[0m     \u001b[38;5;28mself\u001b[39m\u001b[38;5;241m.\u001b[39m_request_autoscale_view(\u001b[38;5;124m\"\u001b[39m\u001b[38;5;124mx\u001b[39m\u001b[38;5;124m\"\u001b[39m)\n",
      "File \u001b[0;32m~/miniconda3/envs/atsc270/lib/python3.11/site-packages/matplotlib/axes/_base.py:2309\u001b[0m, in \u001b[0;36m_AxesBase.add_line\u001b[0;34m(self, line)\u001b[0m\n\u001b[1;32m   2306\u001b[0m \u001b[38;5;28;01mif\u001b[39;00m line\u001b[38;5;241m.\u001b[39mget_clip_path() \u001b[38;5;129;01mis\u001b[39;00m \u001b[38;5;28;01mNone\u001b[39;00m:\n\u001b[1;32m   2307\u001b[0m     line\u001b[38;5;241m.\u001b[39mset_clip_path(\u001b[38;5;28mself\u001b[39m\u001b[38;5;241m.\u001b[39mpatch)\n\u001b[0;32m-> 2309\u001b[0m \u001b[38;5;28mself\u001b[39m\u001b[38;5;241m.\u001b[39m_update_line_limits(line)\n\u001b[1;32m   2310\u001b[0m \u001b[38;5;28;01mif\u001b[39;00m \u001b[38;5;129;01mnot\u001b[39;00m line\u001b[38;5;241m.\u001b[39mget_label():\n\u001b[1;32m   2311\u001b[0m     line\u001b[38;5;241m.\u001b[39mset_label(\u001b[38;5;124mf\u001b[39m\u001b[38;5;124m'\u001b[39m\u001b[38;5;124m_child\u001b[39m\u001b[38;5;132;01m{\u001b[39;00m\u001b[38;5;28mlen\u001b[39m(\u001b[38;5;28mself\u001b[39m\u001b[38;5;241m.\u001b[39m_children)\u001b[38;5;132;01m}\u001b[39;00m\u001b[38;5;124m'\u001b[39m)\n",
      "File \u001b[0;32m~/miniconda3/envs/atsc270/lib/python3.11/site-packages/matplotlib/axes/_base.py:2332\u001b[0m, in \u001b[0;36m_AxesBase._update_line_limits\u001b[0;34m(self, line)\u001b[0m\n\u001b[1;32m   2328\u001b[0m \u001b[38;5;28;01mdef\u001b[39;00m \u001b[38;5;21m_update_line_limits\u001b[39m(\u001b[38;5;28mself\u001b[39m, line):\n\u001b[1;32m   2329\u001b[0m \u001b[38;5;250m    \u001b[39m\u001b[38;5;124;03m\"\"\"\u001b[39;00m\n\u001b[1;32m   2330\u001b[0m \u001b[38;5;124;03m    Figures out the data limit of the given line, updating self.dataLim.\u001b[39;00m\n\u001b[1;32m   2331\u001b[0m \u001b[38;5;124;03m    \"\"\"\u001b[39;00m\n\u001b[0;32m-> 2332\u001b[0m     path \u001b[38;5;241m=\u001b[39m line\u001b[38;5;241m.\u001b[39mget_path()\n\u001b[1;32m   2333\u001b[0m     \u001b[38;5;28;01mif\u001b[39;00m path\u001b[38;5;241m.\u001b[39mvertices\u001b[38;5;241m.\u001b[39msize \u001b[38;5;241m==\u001b[39m \u001b[38;5;241m0\u001b[39m:\n\u001b[1;32m   2334\u001b[0m         \u001b[38;5;28;01mreturn\u001b[39;00m\n",
      "File \u001b[0;32m~/miniconda3/envs/atsc270/lib/python3.11/site-packages/matplotlib/lines.py:1032\u001b[0m, in \u001b[0;36mLine2D.get_path\u001b[0;34m(self)\u001b[0m\n\u001b[1;32m   1030\u001b[0m \u001b[38;5;250m\u001b[39m\u001b[38;5;124;03m\"\"\"Return the `~matplotlib.path.Path` associated with this line.\"\"\"\u001b[39;00m\n\u001b[1;32m   1031\u001b[0m \u001b[38;5;28;01mif\u001b[39;00m \u001b[38;5;28mself\u001b[39m\u001b[38;5;241m.\u001b[39m_invalidy \u001b[38;5;129;01mor\u001b[39;00m \u001b[38;5;28mself\u001b[39m\u001b[38;5;241m.\u001b[39m_invalidx:\n\u001b[0;32m-> 1032\u001b[0m     \u001b[38;5;28mself\u001b[39m\u001b[38;5;241m.\u001b[39mrecache()\n\u001b[1;32m   1033\u001b[0m \u001b[38;5;28;01mreturn\u001b[39;00m \u001b[38;5;28mself\u001b[39m\u001b[38;5;241m.\u001b[39m_path\n",
      "File \u001b[0;32m~/miniconda3/envs/atsc270/lib/python3.11/site-packages/matplotlib/lines.py:673\u001b[0m, in \u001b[0;36mLine2D.recache\u001b[0;34m(self, always)\u001b[0m\n\u001b[1;32m    671\u001b[0m     x \u001b[38;5;241m=\u001b[39m \u001b[38;5;28mself\u001b[39m\u001b[38;5;241m.\u001b[39m_x\n\u001b[1;32m    672\u001b[0m \u001b[38;5;28;01mif\u001b[39;00m always \u001b[38;5;129;01mor\u001b[39;00m \u001b[38;5;28mself\u001b[39m\u001b[38;5;241m.\u001b[39m_invalidy:\n\u001b[0;32m--> 673\u001b[0m     yconv \u001b[38;5;241m=\u001b[39m \u001b[38;5;28mself\u001b[39m\u001b[38;5;241m.\u001b[39mconvert_yunits(\u001b[38;5;28mself\u001b[39m\u001b[38;5;241m.\u001b[39m_yorig)\n\u001b[1;32m    674\u001b[0m     y \u001b[38;5;241m=\u001b[39m _to_unmasked_float_array(yconv)\u001b[38;5;241m.\u001b[39mravel()\n\u001b[1;32m    675\u001b[0m \u001b[38;5;28;01melse\u001b[39;00m:\n",
      "File \u001b[0;32m~/miniconda3/envs/atsc270/lib/python3.11/site-packages/matplotlib/artist.py:291\u001b[0m, in \u001b[0;36mArtist.convert_yunits\u001b[0;34m(self, y)\u001b[0m\n\u001b[1;32m    289\u001b[0m \u001b[38;5;28;01mif\u001b[39;00m ax \u001b[38;5;129;01mis\u001b[39;00m \u001b[38;5;28;01mNone\u001b[39;00m \u001b[38;5;129;01mor\u001b[39;00m ax\u001b[38;5;241m.\u001b[39myaxis \u001b[38;5;129;01mis\u001b[39;00m \u001b[38;5;28;01mNone\u001b[39;00m:\n\u001b[1;32m    290\u001b[0m     \u001b[38;5;28;01mreturn\u001b[39;00m y\n\u001b[0;32m--> 291\u001b[0m \u001b[38;5;28;01mreturn\u001b[39;00m ax\u001b[38;5;241m.\u001b[39myaxis\u001b[38;5;241m.\u001b[39mconvert_units(y)\n",
      "File \u001b[0;32m~/miniconda3/envs/atsc270/lib/python3.11/site-packages/matplotlib/axis.py:1771\u001b[0m, in \u001b[0;36mAxis.convert_units\u001b[0;34m(self, x)\u001b[0m\n\u001b[1;32m   1769\u001b[0m     ret \u001b[38;5;241m=\u001b[39m \u001b[38;5;28mself\u001b[39m\u001b[38;5;241m.\u001b[39mconverter\u001b[38;5;241m.\u001b[39mconvert(x, \u001b[38;5;28mself\u001b[39m\u001b[38;5;241m.\u001b[39munits, \u001b[38;5;28mself\u001b[39m)\n\u001b[1;32m   1770\u001b[0m \u001b[38;5;28;01mexcept\u001b[39;00m \u001b[38;5;167;01mException\u001b[39;00m \u001b[38;5;28;01mas\u001b[39;00m e:\n\u001b[0;32m-> 1771\u001b[0m     \u001b[38;5;28;01mraise\u001b[39;00m munits\u001b[38;5;241m.\u001b[39mConversionError(\u001b[38;5;124m'\u001b[39m\u001b[38;5;124mFailed to convert value(s) to axis \u001b[39m\u001b[38;5;124m'\u001b[39m\n\u001b[1;32m   1772\u001b[0m                                  \u001b[38;5;124mf\u001b[39m\u001b[38;5;124m'\u001b[39m\u001b[38;5;124munits: \u001b[39m\u001b[38;5;132;01m{\u001b[39;00mx\u001b[38;5;132;01m!r}\u001b[39;00m\u001b[38;5;124m'\u001b[39m) \u001b[38;5;28;01mfrom\u001b[39;00m \u001b[38;5;21;01me\u001b[39;00m\n\u001b[1;32m   1773\u001b[0m \u001b[38;5;28;01mreturn\u001b[39;00m ret\n",
      "\u001b[0;31mConversionError\u001b[0m: Failed to convert value(s) to axis units: <Quantity([  nan -28.8 -27.6 -28.7 -28.9 -28.9 -35.3 -35.3 -40.5 -41.1 -41.1 -41.9\n -43.3 -43.9 -52.3 -52.5 -52.5 -53.5 -53.7 -54.9 -66.7 -69.1 -69.3 -69.5\n -68.7 -68.5 -68.7 -69.7 -69.5 -70.1 -70.7 -70.9 -69.7 -69.9 -70.5 -70.1\n -73.5 -72.9 -73.7 -72.7 -72.5 -76.1 -75.9 -75.9 -79.3 -79.1 -78.1 -76.5\n -77.9 -79.5 -79.5], 'degree_Celsius')>"
     ]
    },
    {
     "data": {
      "image/png": "[encoded data removed]",
      "text/plain": [
       "<Figure size 600x600 with 1 Axes>"
      ]
     },
     "metadata": {},
     "output_type": "display_data"
    }
   ],
   "source": [
    "#create a figure\n",
    "fig = plt.figure(figsize=(4,4),dpi=150)\n",
    "\n",
    "#create subplot\n",
    "ax = plt.subplot(1,1,1)\n",
    "\n",
    "#plot temperature on the x-axis, height on the y-axis in red\n",
    "#give it the label of TEMPERATURE\n",
    "ax.plot(tmpc,height_m,color='red',label='TEMPERATURE')\n",
    "\n",
    "#plot dewpoint in blue\n",
    "#give it the label of DEWPOINT\n",
    "ax.plot(dwpc, color='blue', label='DEWPOINT')\n",
    "\n",
    "#add a background grid\n",
    "plt.grid()\n",
    "\n",
    "#add a x label with units (including the degree symbol) - google it and figure it out :)\n",
    "ax.set_xlabel('Temperature[C]')\n",
    "\n",
    "#add a y label with unitsax.set_ylabel('Height[m]')\n",
    "ax.set_ylabel('Height[m]')\n",
    "\n",
    "#add a legend\n",
    "ax.set_title('Temperature and Dewpoint VS Height')\n",
    "ax.semilogy()\n",
    "ax.legend()\n",
    "\n",
    "#this is added to make sure labels don't get cut off\n",
    "fig.tight_layout()\n",
    "#save the figure as temp_dwpt.png\n",
    "plt.savefig('temp_dwpt.png')"
   ]
  },
  {
   "cell_type": "markdown",
   "id": "05723ee8",
   "metadata": {},
   "source": [
    "While this is nice, it's not particularly useful to us for analyzing the current weather or making a forecast.\n",
    "\n",
    "For that, we typically examine Skew-T Log-P diagrams.  For this, we will be following a modified version of the \"Skew-T with Complex Layout\" example on MetPy's website (https://unidata.github.io/MetPy/latest/examples/plots/Skew-T_Layout.html)"
   ]
  },
  {
   "cell_type": "markdown",
   "id": "a7491edd",
   "metadata": {},
   "source": [
    "### PLOT DATA ON SKEW-T ###"
   ]
  },
  {
   "cell_type": "code",
   "execution_count": null,
   "id": "61376b28",
   "metadata": {},
   "outputs": [],
   "source": [
    "#create a figure and give it a figsize of 9x9, with a dpi of 100\n",
    "\n",
    "#create Skew-T\n",
    "skew = SkewT(fig,rotation=45)\n",
    "\n",
    "#add dry adiabats\n",
    "skew.plot_dry_adiabats()\n",
    "#add moist adiabats\n",
    "skew.plot_moist_adiabats()\n",
    "#add mixing ratio lines\n",
    "skew.plot_mixing_lines()\n",
    "\n",
    "#add axis labels with units\n",
    "\n",
    "#add a y label with units \n",
    "\n",
    "\n",
    "#add temperature in red\n",
    "\n",
    "#add dewpoint in blue\n",
    "\n",
    "\n",
    "#plot wind barbs\n",
    "\n",
    "\n",
    "#set x-axis limits that look good (use your eyes)\n",
    "\n",
    "#set y-axis limits that include the tropopause but not a ton of the stratosphere\n",
    "\n",
    "#to make sure everything looks okay\n",
    "fig.tight_layout()\n",
    "\n",
    "#save the skew T as skewT.png\n"
   ]
  },
  {
   "cell_type": "markdown",
   "id": "f13741ac",
   "metadata": {},
   "source": [
    "### PLOT HODOGRAPH ###\n",
    "The plot will not look correct if you do not remove NaNs"
   ]
  },
  {
   "cell_type": "code",
   "execution_count": null,
   "id": "b016a943",
   "metadata": {},
   "outputs": [],
   "source": [
    "#remove nans from u and v\n",
    "u_hodo = u.dropna()\n",
    "\n",
    "\n",
    "#create the hodograph (have the range from 0-100kts with 25kt increment)\n",
    "#make the wind curve black\n",
    "\n",
    "#add x and y labels\n",
    "\n",
    "#to make sure everything looks okay\n",
    "fig.tight_layout()\n",
    "\n",
    "#save figure as hodo.png\n"
   ]
  },
  {
   "cell_type": "markdown",
   "id": "0c43d83f",
   "metadata": {},
   "source": [
    "### PLOT SKEW-T & HODOGRAPH ON SAME FIGURE ###"
   ]
  },
  {
   "cell_type": "code",
   "execution_count": null,
   "id": "511a4f50",
   "metadata": {},
   "outputs": [],
   "source": [
    "fig = plt.figure(figsize=(9,9),dpi=100)\n",
    "\n",
    "gs = gridspec.GridSpec(3,3)\n",
    "skew = SkewT(fig, rotation=45, subplot=gs[:,:2])\n",
    "\n",
    "#add dry adiabats\n",
    "\n",
    "#add moist adiabats\n",
    "\n",
    "#add mixing ratio lines\n",
    "\n",
    "\n",
    "#add axis labels with units\n",
    "\n",
    "#add a y label with units \n",
    "\n",
    "\n",
    "#add temperature in red\n",
    "\n",
    "#add dewpoint in blue\n",
    "\n",
    "\n",
    "#plot wind barbs\n",
    "\n",
    "\n",
    "#set x-axis limits that look good (use your eyes)\n",
    "\n",
    "#set y-axis limits that include the tropopause but not a ton of the stratosphere\n",
    "\n",
    "#add a hodograph\n",
    "ax = fig.add_subplot(gs[0,-1])\n",
    "\n",
    "#add x and y labels\n",
    "\n",
    "#add a title with the date and launch location:\n",
    "plt.suptitle(title)\n",
    "\n",
    "#to make sure everything looks okay\n",
    "fig.tight_layout()\n",
    "\n",
    "#save the figure as skew_hodo.png\n"
   ]
  },
  {
   "cell_type": "code",
   "execution_count": null,
   "id": "406c370b",
   "metadata": {},
   "outputs": [],
   "source": []
  }
 ],
 "metadata": {
  "kernelspec": {
   "display_name": "Python 3 (ipykernel)",
   "language": "python",
   "name": "python3"
  },
  "language_info": {
   "codemirror_mode": {
    "name": "ipython",
    "version": 3
   },
   "file_extension": ".py",
   "mimetype": "text/x-python",
   "name": "python",
   "nbconvert_exporter": "python",
   "pygments_lexer": "ipython3",
   "version": "3.11.7"
  }
 },
 "nbformat": 4,
 "nbformat_minor": 5
}
