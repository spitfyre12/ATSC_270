{
 "cells": [
  {
   "cell_type": "markdown",
   "id": "bd61f82f",
   "metadata": {},
   "source": [
    "# ASSIGNMENT #2 - ATMOSPHERIC SOUNDINGS #\n",
    "Due: 04 February 2023 @ 11:59p"
   ]
  },
  {
   "cell_type": "markdown",
   "id": "816b3dd4",
   "metadata": {},
   "source": [
    "Purpose:\\\n",
    "The purpose of this assignment is to become familiar with reading in text data, storing the data in arrays, applying metpy units, and outputting the data into easily read files.\n",
    "\n",
    "Overview:\\\n",
    "In this assignment you will read in atmospheric sounding data and apply units to the data and print the data to a text file and a comma-separated value (csv) text file.\n",
    "\n",
    "\n",
    "| | UPDATE TO YOUR INFORMATION | \n",
    "| :- | :- |\n",
    "| Created By | Jared W. Marquis |\n",
    "| Creation Date | 09 January 2024 |\n",
    "| Course | ATSC 270 - Computer Concepts in Meteorology |"
   ]
  },
  {
   "cell_type": "code",
   "execution_count": 2,
   "id": "eb870142",
   "metadata": {},
   "outputs": [],
   "source": [
    "### UPDATE TO YOUR INFORMATION ###\n",
    "#information allowing anyone with the code to print the author and contact information\n",
    "__author__    = \"Rebecca Jacoby\"\n",
    "__contact__   = \"rebecca.jacoby@ndus.edu\""
   ]
  },
  {
   "cell_type": "markdown",
   "id": "7dec3f1b",
   "metadata": {},
   "source": [
    "### IMPORT REQUIRED LIBRARIES ###"
   ]
  },
  {
   "cell_type": "code",
   "execution_count": 2,
   "id": "b4b5cb45",
   "metadata": {},
   "outputs": [],
   "source": [
    "import numpy as np\n",
    "from metpy.calc import wind_components\n",
    "from metpy.units import units\n",
    "import pandas as pd"
   ]
  },
  {
   "cell_type": "markdown",
   "id": "1df8fe8f",
   "metadata": {},
   "source": [
    "### OPEN SOUNDING FILE ###"
   ]
  },
  {
   "cell_type": "code",
   "execution_count": 3,
   "id": "2a62a4f1",
   "metadata": {},
   "outputs": [],
   "source": [
    "#open file\n",
    "sounding_file = open (\"KBIS_2009011512.txt\", \"r\").readlines()\n"
   ]
  },
  {
   "cell_type": "markdown",
   "id": "133b2f64",
   "metadata": {},
   "source": [
    "### READ IN DATA INTO LISTS ###"
   ]
  },
  {
   "cell_type": "code",
   "execution_count": 4,
   "id": "65907f20",
   "metadata": {},
   "outputs": [
    {
     "name": "stdout",
     "output_type": "stream",
     "text": [
      "['KBIS', 'KBIS', 'KBIS', 'KBIS', 'KBIS', 'KBIS', 'KBIS', 'KBIS', 'KBIS', 'KBIS', 'KBIS', 'KBIS', 'KBIS', 'KBIS', 'KBIS', 'KBIS', 'KBIS', 'KBIS', 'KBIS', 'KBIS', 'KBIS', 'KBIS', 'KBIS', 'KBIS', 'KBIS', 'KBIS', 'KBIS', 'KBIS', 'KBIS', 'KBIS', 'KBIS', 'KBIS', 'KBIS', 'KBIS', 'KBIS', 'KBIS', 'KBIS', 'KBIS', 'KBIS', 'KBIS', 'KBIS', 'KBIS', 'KBIS', 'KBIS', 'KBIS', 'KBIS', 'KBIS', 'KBIS', 'KBIS', 'KBIS', 'KBIS', 'KBIS', 'KBIS', 'KBIS', 'KBIS', 'KBIS', 'KBIS', 'KBIS', 'KBIS', 'KBIS', 'KBIS', 'KBIS', 'KBIS', 'KBIS', 'KBIS', 'KBIS', 'KBIS', 'KBIS', 'KBIS', 'KBIS', 'KBIS', 'KBIS', 'KBIS', 'KBIS', 'KBIS', 'KBIS', 'KBIS', 'KBIS', 'KBIS', 'KBIS']\n",
      "['2009-01-15 12:00:00', '2009-01-15 12:00:00', '2009-01-15 12:00:00', '2009-01-15 12:00:00', '2009-01-15 12:00:00', '2009-01-15 12:00:00', '2009-01-15 12:00:00', '2009-01-15 12:00:00', '2009-01-15 12:00:00', '2009-01-15 12:00:00', '2009-01-15 12:00:00', '2009-01-15 12:00:00', '2009-01-15 12:00:00', '2009-01-15 12:00:00', '2009-01-15 12:00:00', '2009-01-15 12:00:00', '2009-01-15 12:00:00', '2009-01-15 12:00:00', '2009-01-15 12:00:00', '2009-01-15 12:00:00', '2009-01-15 12:00:00', '2009-01-15 12:00:00', '2009-01-15 12:00:00', '2009-01-15 12:00:00', '2009-01-15 12:00:00', '2009-01-15 12:00:00', '2009-01-15 12:00:00', '2009-01-15 12:00:00', '2009-01-15 12:00:00', '2009-01-15 12:00:00', '2009-01-15 12:00:00', '2009-01-15 12:00:00', '2009-01-15 12:00:00', '2009-01-15 12:00:00', '2009-01-15 12:00:00', '2009-01-15 12:00:00', '2009-01-15 12:00:00', '2009-01-15 12:00:00', '2009-01-15 12:00:00', '2009-01-15 12:00:00', '2009-01-15 12:00:00', '2009-01-15 12:00:00', '2009-01-15 12:00:00', '2009-01-15 12:00:00', '2009-01-15 12:00:00', '2009-01-15 12:00:00', '2009-01-15 12:00:00', '2009-01-15 12:00:00', '2009-01-15 12:00:00', '2009-01-15 12:00:00', '2009-01-15 12:00:00', '2009-01-15 12:00:00', '2009-01-15 12:00:00', '2009-01-15 12:00:00', '2009-01-15 12:00:00', '2009-01-15 12:00:00', '2009-01-15 12:00:00', '2009-01-15 12:00:00', '2009-01-15 12:00:00', '2009-01-15 12:00:00', '2009-01-15 12:00:00', '2009-01-15 12:00:00', '2009-01-15 12:00:00', '2009-01-15 12:00:00', '2009-01-15 12:00:00', '2009-01-15 12:00:00', '2009-01-15 12:00:00', '2009-01-15 12:00:00', '2009-01-15 12:00:00', '2009-01-15 12:00:00', '2009-01-15 12:00:00', '2009-01-15 12:00:00', '2009-01-15 12:00:00', '2009-01-15 12:00:00', '2009-01-15 12:00:00', '2009-01-15 12:00:00', '2009-01-15 12:00:00', '2009-01-15 12:00:00', '2009-01-15 12:00:00', '2009-01-15 12:00:00']\n",
      "['4', '9', '5', '5', '5', '6', '4', '5', '6', '5', '4', '6', '6', '5', '6', '5', '5', '6', '5', '4', '6', '5', '6', '6', '6', '5', '4', '5', '6', '5', '5', '4', '6', '6', '4', '6', '6', '6', '5', '4', '5', '5', '5', '6', '4', '5', '5', '5', '5', '5', '6', '5', '4', '5', '5', '5', '6', '5', '5', '4', '5', '5', '6', '4', '5', '6', '5', '6', '5', '4', '5', '6', '6', '6', '6', '4', '6', '6', '4', '5']\n",
      "['1000.0', '979.0', '959.0', '949.0', '936.0', '925.1', '925.0', '898.0', '887.3', '851.0', '850.0', '816.8', '783.6', '763.0', '751.6', '730.0', '721.0', '720.8', '707.0', '700.0', '636.0', '610.0', '584.2', '536.2', '513.6', '510.0', '500.0', '463.0', '450.4', '423.0', '409.0', '400.0', '394.6', '359.8', '300.0', '284.9', '274.0', '271.5', '255.0', '250.0', '228.0', '214.0', '209.0', '203.2', '200.0', '192.0', '183.0', '175.0', '168.0', '163.0', '159.4', '156.0', '150.0', '141.0', '130.0', '111.0', '107.9', '106.0', '104.0', '100.0', '91.5', '78.4', '76.3', '70.0', '68.6', '65.6', '57.6', '53.5', '52.0', '50.0', '47.2', '41.6', '39.5', '30.7', '30.1', '30.0', '23.8', '20.4', '20.0', '19.9']\n",
      "['M', '-35.7', '-25.3', '-24.1', '-22.7', 'M', '-22.9', '-22.9', 'M', '-21.3', '-21.3', 'M', 'M', '-22.5', 'M', '-24.1', '-23.1', 'M', '-22.9', '-23.3', 'M', '-25.9', 'M', 'M', 'M', '-34.3', '-34.5', '-34.5', 'M', '-38.5', '-38.7', '-39.9', 'M', 'M', '-54.7', 'M', 'M', 'M', '-58.1', '-58.3', '-58.5', '-57.7', '-56.5', 'M', '-56.7', '-57.7', '-57.5', '-59.1', '-59.7', '-59.9', 'M', '-58.7', '-58.9', '-59.5', '-59.1', '-62.5', 'M', '-61.9', '-62.7', '-61.7', '-61.5', '-66.1', 'M', '-65.9', '-65.9', 'M', '-69.3', 'M', '-69.1', '-68.1', '-66.5', 'M', 'M', 'M', 'M', '-67.9', 'M', 'M', '-69.5', '-69.5']\n",
      "['M', '-39.8', '-28.8', '-27.6', '-28.7', 'M', '-28.9', '-28.9', 'M', '-35.3', '-35.3', 'M', 'M', '-40.5', 'M', '-41.1', '-41.1', 'M', '-41.9', '-43.3', 'M', '-43.9', 'M', 'M', 'M', '-52.3', '-52.5', '-52.5', 'M', '-53.5', '-53.7', '-54.9', 'M', 'M', '-66.7', 'M', 'M', 'M', '-69.1', '-69.3', '-69.5', '-68.7', '-68.5', 'M', '-68.7', '-69.7', '-69.5', '-70.1', '-70.7', '-70.9', 'M', '-69.7', '-69.9', '-70.5', '-70.1', '-73.5', 'M', '-72.9', '-73.7', '-72.7', '-72.5', '-76.1', 'M', '-75.9', '-75.9', 'M', '-79.3', 'M', '-79.1', '-78.1', '-76.5', 'M', 'M', 'M', 'M', '-77.9', 'M', 'M', '-79.5', '-79.5']\n",
      "['M', '0.0', 'M', 'M', 'M', '280.0', '285.0', 'M', '320.0', 'M', '330.0', '320.0', '335.0', 'M', '340.0', 'M', 'M', '335.0', 'M', '335.0', '335.0', 'M', '335.0', '335.0', '335.0', 'M', '335.0', 'M', '340.0', 'M', 'M', '340.0', '340.0', '340.0', '345.0', '345.0', '340.0', '340.0', 'M', '340.0', 'M', 'M', 'M', '335.0', '335.0', 'M', 'M', 'M', 'M', 'M', '335.0', 'M', '340.0', 'M', 'M', 'M', '330.0', 'M', 'M', '325.0', 'M', 'M', '320.0', '315.0', 'M', '315.0', 'M', '325.0', 'M', '320.0', 'M', '320.0', '315.0', '315.0', '315.0', '315.0', '315.0', '310.0', '315.0', 'M']\n",
      "['M', '0', 'M', 'M', 'M', '6', '6', 'M', '10', 'M', '10', '15', '17', 'M', '22', 'M', 'M', '32', 'M', '36', '50', 'M', '62', '67', '69', 'M', '73', 'M', '94', 'M', 'M', '112', '112', '118', '125', '131', '132', '132', 'M', '117', 'M', 'M', 'M', '98', '99', 'M', 'M', 'M', 'M', 'M', '106', 'M', '101', 'M', 'M', 'M', '93', 'M', 'M', '88', 'M', 'M', '86', '97', 'M', '102', 'M', '113', 'M', '108', 'M', '100', '103', '115', '115', '115', '98', '110', '111', 'M']\n",
      "['M', '0.0', 'M', 'M', 'M', '139.0', '139.0', 'M', '127.0', 'M', '135.0', '139.0', '141.0', 'M', '145.0', 'M', 'M', '149.0', 'M', '150.0', '152.0', 'M', '153.0', '153.0', '153.0', 'M', '153.0', 'M', '154.0', 'M', 'M', '156.0', '156.0', '156.0', '158.0', '158.0', '158.0', '158.0', 'M', '159.0', 'M', 'M', 'M', '158.0', '158.0', 'M', 'M', 'M', 'M', 'M', '158.0', 'M', '158.0', 'M', 'M', 'M', '157.0', 'M', 'M', '157.0', 'M', 'M', '155.0', '155.0', 'M', '154.0', 'M', '153.0', 'M', '153.0', 'M', '152.0', '151.0', '150.0', '150.0', '150.0', '149.0', '148.0', '148.0', 'M']\n",
      "['M', '0.0', 'M', 'M', 'M', '0.0', '0.0', 'M', '0.0', 'M', '0.0', '0.0', '0.0', 'M', '1.0', 'M', 'M', '1.0', 'M', '2.0', '3.0', 'M', '5.0', '7.0', '8.0', 'M', '9.0', 'M', '13.0', 'M', 'M', '17.0', '18.0', '22.0', '30.0', '32.0', '34.0', '34.0', 'M', '38.0', 'M', 'M', 'M', '46.0', '46.0', 'M', 'M', 'M', 'M', 'M', '54.0', 'M', '56.0', 'M', 'M', 'M', '67.0', 'M', 'M', '70.0', 'M', 'M', '78.0', '80.0', 'M', '82.0', 'M', '89.0', 'M', '92.0', 'M', '98.0', '100.0', '108.0', '109.0', '109.0', '117.0', '122.0', '123.0', 'M']\n"
     ]
    }
   ],
   "source": [
    "#append works best here, even though appending is bad\n",
    "#station, validUTC, levelcode, pressure_mb,height_m,tmpc,dwpc,drct,speed,_kts,bearings,range_sm\n",
    "\n",
    "#create empty lists to hold sounding values\n",
    "station = []\n",
    "validUTC = []\n",
    "levelcode = []\n",
    "pressure_mb = []\n",
    "height_m = []\n",
    "tmpc = []\n",
    "dwpc = []\n",
    "drct = []\n",
    "speed_kts = []\n",
    "bearings = []\n",
    "range_sm = []\n",
    "\n",
    "#loop through each line in the sounding,skipping first line(header)\n",
    "for line in sounding_file[1:]:\n",
    "    station.append(line.split(\",\")[0])\n",
    "    validUTC.append(line.split(\",\")[1])\n",
    "    levelcode.append(line.split(\",\")[2])\n",
    "    pressure_mb.append(line.split(\",\")[3])\n",
    "    height_m.append(line.split(\",\")[4])\n",
    "    tmpc.append(line.split(\",\")[5])\n",
    "    dwpc.append(line.split(\",\")[6])\n",
    "    drct.append(line.split(\",\")[7])\n",
    "    speed_kts.append(line.split(\",\")[8])\n",
    "    bearings.append(line.split(\",\")[9])\n",
    "    #add rstrip() to get rid of  \"\\n\" at the end of range_sm\n",
    "    range_sm.append(line.split(\",\")[10].rstrip())\n",
    "    \n",
    "    \n",
    "    #for line in sounding_file[1:]:\n",
    "    #validUTC.append(line.split(\",\")[1]) This is just another way to do this\n",
    "\n",
    "print(station)\n",
    "print(validUTC)\n",
    "print(levelcode)\n",
    "print(pressure_mb)\n",
    "print(tmpc)\n",
    "print(dwpc)\n",
    "print(drct)\n",
    "print(speed_kts)\n",
    "print(bearings)\n",
    "print(range_sm)\n",
    "#print(len(sounding_file))\n",
    "#just 4 and 5\n",
    "#where is level code 4 and 5? Find the indexes! \n",
    "\n"
   ]
  },
  {
   "cell_type": "markdown",
   "id": "be194c5e",
   "metadata": {},
   "source": [
    "### SUBSET TO MANDATORY AND SIGNIFICANT LEVELS ###\n",
    "\n",
    "#### This should remove missing data ####\n",
    "\n",
    "| Level Code | Meaning |\n",
    "| --- | :- |\n",
    "| 4 | mandatory |\n",
    "| 5 | significant |\n",
    "| 6 | wind level (PPBB) |\n",
    "| 7 | tropopause level |\n",
    "| 8 | maximum wind level |\n",
    "| 9 | surface level |"
   ]
  },
  {
   "cell_type": "code",
   "execution_count": 5,
   "id": "0095a064",
   "metadata": {},
   "outputs": [],
   "source": [
    "#creating empty lists to hold values from mandatory (4) and significant (5) levels\n",
    "station_subset = [] \n",
    "validUTC_subset = []\n",
    "levelcode_subset = []\n",
    "pressure_mb_subset = []\n",
    "height_m_subset = []\n",
    "tmpc_subset = []\n",
    "dwpc_subset = []\n",
    "drct_subset = []\n",
    "speed_kts_subset = []\n",
    "bearings_subset = []\n",
    "range_sm_subset = []\n",
    "\n",
    "\n",
    "\n",
    "\n",
    "#looping through each level in the sounding \n",
    "#to check if it's a mandatory or significant level\n",
    "##we're doing this by looping through the indices\n",
    "\n",
    "for i in range (len(levelcode)):\n",
    "    #if level code is mandatory or significant\n",
    "    if levelcode[i] == '4' or levelcode[i] == '5':\n",
    "        #add the variable at that level to each list\n",
    "        station_subset.append(station[i])\n",
    "        validUTC_subset.append(validUTC[i])\n",
    "        levelcode_subset.append(levelcode[i])\n",
    "        pressure_mb_subset.append(pressure_mb[i])\n",
    "        height_m_subset.append(height_m[i])\n",
    "        tmpc_subset.append(tmpc[i])\n",
    "        dwpc_subset.append(dwpc[i])\n",
    "        drct_subset.append(drct[i])\n",
    "        speed_kts_subset.append(speed_kts[i])\n",
    "        bearings_subset.append(bearings[i])\n",
    "        range_sm_subset.append(range_sm[i])\n"
   ]
  },
  {
   "cell_type": "markdown",
   "id": "0672b7d3",
   "metadata": {},
   "source": [
    "### CONVERT STRINGS ###\n",
    "Some data needs to be floating point numbers, some needs to be integers, some should stay as strings.\n",
    "\n",
    "Hint: You can leave the UTC time as a string and anything that needs NaNs will be a floating point."
   ]
  },
  {
   "cell_type": "code",
   "execution_count": 6,
   "id": "99b298a4",
   "metadata": {},
   "outputs": [],
   "source": [
    "#loop through each level in subset of 4's and 5's\n",
    "for i in range(len(levelcode_subset)):\n",
    "    #convert data from i-th level from a string to a float/int number\n",
    "    #UTC and Station do not need to be converted, strings are fine\n",
    "        \n",
    "    levelcode_subset[i] = int(levelcode_subset[i])\n",
    "\n",
    "    if pressure_mb_subset[i] == 'M':\n",
    "        pressure_mb_subset[i] = float('NaN')\n",
    "\n",
    "    else:\n",
    "        pressure_mb_subset[i] = float(pressure_mb_subset[i])\n",
    "\n",
    "    \n",
    "    if height_m_subset[i] == 'M':\n",
    "        height_m_subset[i] = float('NaN')\n",
    "        \n",
    "    else:\n",
    "        height_m_subset[i] = float(height_m_subset[i])\n",
    "\n",
    "    if tmpc_subset[i] == 'M':\n",
    "        tmpc_subset[i] = float('NaN')\n",
    "\n",
    "    else:\n",
    "        tmpc_subset[i] = float(tmpc_subset[i])\n",
    "\n",
    "\n",
    "    if dwpc_subset[i] == 'M':\n",
    "        dwpc_subset[i] = float('NaN')\n",
    "\n",
    "    else:\n",
    "        dwpc_subset[i] = float(dwpc_subset[i])\n",
    "\n",
    "    if drct_subset[i] == 'M':\n",
    "        drct_subset[i] = float('NaN')\n",
    "\n",
    "    else:\n",
    "        drct_subset[i] = float(drct_subset[i])\n",
    "\n",
    "    if speed_kts_subset[i] == 'M':\n",
    "        speed_kts_subset[i] = float('NaN')\n",
    "\n",
    "    else:\n",
    "        speed_kts_subset[i] = float(speed_kts_subset[i])\n",
    "\n",
    "    if bearings_subset[i] == 'M':\n",
    "        bearings_subset[i] = float('NaN')\n",
    "\n",
    "    else:\n",
    "        bearings_subset[i] = float(bearings_subset[i])\n",
    "\n",
    "    if range_sm_subset[i] == 'M':\n",
    "        range_sm_subset[i] = float('NaN')\n",
    "\n",
    "    else:\n",
    "        range_sm_subset[i] = float(range_sm_subset[i])\n"
   ]
  },
  {
   "cell_type": "markdown",
   "id": "550558da",
   "metadata": {},
   "source": [
    "### ADD UNITS ###\n",
    "Add units using metpy.\n",
    "\n",
    "Make sure to identify which variables need units.\n",
    "\n",
    "https://unidata.github.io/MetPy/latest/tutorials/unit_tutorial.html"
   ]
  },
  {
   "cell_type": "code",
   "execution_count": 7,
   "id": "d759caa8",
   "metadata": {},
   "outputs": [
    {
     "name": "stdout",
     "output_type": "stream",
     "text": [
      "[1000.0 959.0 949.0 936.0 925.0 898.0 851.0 850.0 763.0 730.0 721.0 707.0 700.0 610.0 510.0 500.0 463.0 423.0 409.0 400.0 300.0 255.0 250.0 228.0 214.0 209.0 200.0 192.0 183.0 175.0 168.0 163.0 156.0 150.0 141.0 130.0 111.0 106.0 104.0 100.0 91.5 78.4 70.0 68.6 57.6 52.0 50.0 47.2 30.0 20.0 19.9] millibar\n",
      "[355.0 649.0 726.0 826.0 915.0 1131.0 1526.0 1536.0 2328.0 2651.0 2741.0 2884.0 2961.0 3960.0 5231.0 5370.0 5906.0 6530.0 6761.0 6920.0 8820.0 9842.0 9970.0 10548.0 10946.0 11095.0 11380.0 11637.0 11939.0 12219.0 12474.0 12662.0 12936.0 13190.0 13577.0 14084.0 15064.0 15348.0 15465.0 15710.0 16259.0 17204.0 17900.0 18022.0 19071.0 19680.0 19920.0 20266.0 23000.0 25420.0 25450.0] meter\n",
      "[nan -25.3 -24.1 -22.7 -22.9 -22.9 -21.3 -21.3 -22.5 -24.1 -23.1 -22.9 -23.3 -25.9 -34.3 -34.5 -34.5 -38.5 -38.7 -39.9 -54.7 -58.1 -58.3 -58.5 -57.7 -56.5 -56.7 -57.7 -57.5 -59.1 -59.7 -59.9 -58.7 -58.9 -59.5 -59.1 -62.5 -61.9 -62.7 -61.7 -61.5 -66.1 -65.9 -65.9 -69.3 -69.1 -68.1 -66.5 -67.9 -69.5 -69.5] degree_Celsius\n",
      "[nan -28.8 -27.6 -28.7 -28.9 -28.9 -35.3 -35.3 -40.5 -41.1 -41.1 -41.9 -43.3 -43.9 -52.3 -52.5 -52.5 -53.5 -53.7 -54.9 -66.7 -69.1 -69.3 -69.5 -68.7 -68.5 -68.7 -69.7 -69.5 -70.1 -70.7 -70.9 -69.7 -69.9 -70.5 -70.1 -73.5 -72.9 -73.7 -72.7 -72.5 -76.1 -75.9 -75.9 -79.3 -79.1 -78.1 -76.5 -77.9 -79.5 -79.5] degree_Celsius\n",
      "[nan nan nan nan 285.0 nan nan 330.0 nan nan nan nan 335.0 nan nan 335.0 nan nan nan 340.0 345.0 nan 340.0 nan nan nan 335.0 nan nan nan nan nan nan 340.0 nan nan nan nan nan 325.0 nan nan 315.0 nan nan nan 320.0 nan 315.0 315.0 nan] degree\n",
      "[nan nan nan nan 6.0 nan nan 10.0 nan nan nan nan 36.0 nan nan 73.0 nan nan nan 112.0 125.0 nan 117.0 nan nan nan 99.0 nan nan nan nan nan nan 101.0 nan nan nan nan nan 88.0 nan nan 97.0 nan nan nan 108.0 nan 115.0 111.0 nan] knot\n",
      "[nan nan nan nan 139.0 nan nan 135.0 nan nan nan nan 150.0 nan nan 153.0 nan nan nan 156.0 158.0 nan 159.0 nan nan nan 158.0 nan nan nan nan nan nan 158.0 nan nan nan nan nan 157.0 nan nan 155.0 nan nan nan 153.0 nan 150.0 148.0 nan] degree\n",
      "[nan nan nan nan 0.0 nan nan 0.0 nan nan nan nan 2.0 nan nan 9.0 nan nan nan 17.0 30.0 nan 38.0 nan nan nan 46.0 nan nan nan nan nan nan 56.0 nan nan nan nan nan 70.0 nan nan 80.0 nan nan nan 92.0 nan 109.0 123.0 nan] mile\n"
     ]
    }
   ],
   "source": [
    "#v = 3.2 #m/s\n",
    "#v = v * units('m/s')\n",
    "#print(v)\n",
    "\n",
    "pressure_mb_subset = pressure_mb_subset * units('millibar')\n",
    "height_m_subset = height_m_subset * units('meters')\n",
    "tmpc_subset = tmpc_subset * units('degC')\n",
    "dwpc_subset = dwpc_subset * units('degC')\n",
    "drct_subset = drct_subset * units('degrees')\n",
    "speed_kts_subset = speed_kts_subset * units('knots')\n",
    "bearings_subset = bearings_subset * units('degrees')\n",
    "range_sm_subset = range_sm_subset * units('miles')\n",
    "\n",
    "print(pressure_mb_subset)\n",
    "print(height_m_subset)\n",
    "print(tmpc_subset)\n",
    "print(dwpc_subset)\n",
    "print(drct_subset)\n",
    "print(speed_kts_subset)\n",
    "print(bearings_subset)\n",
    "print(range_sm_subset)\n",
    "\n",
    "\n"
   ]
  },
  {
   "cell_type": "markdown",
   "id": "2de14125",
   "metadata": {},
   "source": [
    "### CONVERT WINDS TO U,V COMPONENTS ###\n",
    "For this, we will be using the metpy.calc.wind_components() function.  This has been imported as wind_components(). \n",
    "\n",
    "https://unidata.github.io/MetPy/latest/api/generated/metpy.calc.wind_components.html\n",
    "\n",
    "Please see the website above to understand how this function works."
   ]
  },
  {
   "cell_type": "code",
   "execution_count": 8,
   "id": "f439cc83",
   "metadata": {},
   "outputs": [
    {
     "name": "stdout",
     "output_type": "stream",
     "text": [
      "[nan nan nan nan 5.79555495773441 nan nan 5.000000000000004 nan nan nan nan 15.214257422665172 nan nan 30.851133107071043 nan nan nan 38.306256052474886 32.35238063781509 nan 40.016356769103226 nan nan nan 41.83920791232922 nan nan nan nan nan nan 34.54403447589253 nan nan nan nan nan 50.47472639889209 nan nan 68.58935777509512 nan nan nan 69.42106184614627 nan 81.31727983645298 78.4888527117068 nan] knot\n",
      "[nan nan nan nan -1.5529142706151218 nan nan -8.660254037844384 nan nan nan nan -32.6270803333194 nan nan -66.16046845367545 nan nan nan -105.24557352802174 -120.74072828613355 nan -109.94403663195129 nan nan nan -89.72447091662835 nan nan nan nan nan nan -94.90895469937675 nan nan nan nan nan -72.08537989743125 nan nan -68.5893577750951 nan nan nan -82.7327998568496 nan -81.31727983645294 -78.48885271170676 nan] knot\n"
     ]
    }
   ],
   "source": [
    "u,v = wind_components(speed_kts_subset,drct_subset)\n",
    "print(u)\n",
    "print(v)"
   ]
  },
  {
   "cell_type": "markdown",
   "id": "1a8467cf",
   "metadata": {},
   "source": [
    "### CONVERT U,V WINDS TO M/S ###"
   ]
  },
  {
   "cell_type": "code",
   "execution_count": 9,
   "id": "9ba4b1b9",
   "metadata": {},
   "outputs": [
    {
     "name": "stdout",
     "output_type": "stream",
     "text": [
      "[nan nan nan nan 2.9814910504789247 nan nan 2.5722222222222246 nan nan nan nan 7.82689020743775 nan nan 15.871194031748772 nan nan nan 19.70644061366208 16.643502483675984 nan 20.586192426771994 nan nan nan 21.523948070453812 nan nan nan nan nan nan 17.77098662482027 nan nan nan nan nan 25.966442580763378 nan nan 35.28541405541005 nan nan nan 35.713279594184144 nan 41.83322284919748 40.37815422835583 nan] meter / second\n",
      "[nan nan nan nan 2.9814910504789247 nan nan 2.5722222222222246 nan nan nan nan 7.82689020743775 nan nan 15.871194031748772 nan nan nan 19.70644061366208 16.643502483675984 nan 20.586192426771994 nan nan nan 21.523948070453812 nan nan nan nan nan nan 17.77098662482027 nan nan nan nan nan 25.966442580763378 nan nan 35.28541405541005 nan nan nan 35.713279594184144 nan 41.83322284919748 40.37815422835583 nan] meter / second\n"
     ]
    }
   ],
   "source": [
    "u = u.to('m/s')\n",
    "print(u)\n",
    "\n",
    "v = u.to('m/s')\n",
    "print(v)\n"
   ]
  },
  {
   "cell_type": "markdown",
   "id": "b93037f8",
   "metadata": {},
   "source": [
    "### PRINT DATA ###\n",
    "Print the sounding location and the time of the sounding.\n",
    "\n",
    "Then for each 4 or 5 level-code level, print the pressure (in mb), height (in meters), temperature (in degrees Celsius), dewpoint temperature (in degrees Celsius), u and v wind components (in m/s) with commas separating each value.  Make sure to include units."
   ]
  },
  {
   "cell_type": "code",
   "execution_count": 10,
   "id": "5d171fd1",
   "metadata": {},
   "outputs": [
    {
     "name": "stdout",
     "output_type": "stream",
     "text": [
      "KBIS, 2009-01-15 12:00:00\n",
      "1000.0 millibar, 355.0 meter, nan degree_Celsius, nan degree_Celsius, nan meter / second, nan meter / second\n",
      "959.0 millibar, 649.0 meter, -25.3 degree_Celsius, -28.8 degree_Celsius, nan meter / second, nan meter / second\n",
      "949.0 millibar, 726.0 meter, -24.1 degree_Celsius, -27.6 degree_Celsius, nan meter / second, nan meter / second\n",
      "936.0 millibar, 826.0 meter, -22.7 degree_Celsius, -28.7 degree_Celsius, nan meter / second, nan meter / second\n",
      "925.0 millibar, 915.0 meter, -22.9 degree_Celsius, -28.9 degree_Celsius, 2.9814910504789247 meter / second, 2.9814910504789247 meter / second\n",
      "898.0 millibar, 1131.0 meter, -22.9 degree_Celsius, -28.9 degree_Celsius, nan meter / second, nan meter / second\n",
      "851.0 millibar, 1526.0 meter, -21.3 degree_Celsius, -35.3 degree_Celsius, nan meter / second, nan meter / second\n",
      "850.0 millibar, 1536.0 meter, -21.3 degree_Celsius, -35.3 degree_Celsius, 2.5722222222222246 meter / second, 2.5722222222222246 meter / second\n",
      "763.0 millibar, 2328.0 meter, -22.5 degree_Celsius, -40.5 degree_Celsius, nan meter / second, nan meter / second\n",
      "730.0 millibar, 2651.0 meter, -24.1 degree_Celsius, -41.1 degree_Celsius, nan meter / second, nan meter / second\n",
      "721.0 millibar, 2741.0 meter, -23.1 degree_Celsius, -41.1 degree_Celsius, nan meter / second, nan meter / second\n",
      "707.0 millibar, 2884.0 meter, -22.9 degree_Celsius, -41.9 degree_Celsius, nan meter / second, nan meter / second\n",
      "700.0 millibar, 2961.0 meter, -23.3 degree_Celsius, -43.3 degree_Celsius, 7.82689020743775 meter / second, 7.82689020743775 meter / second\n",
      "610.0 millibar, 3960.0 meter, -25.9 degree_Celsius, -43.9 degree_Celsius, nan meter / second, nan meter / second\n",
      "510.0 millibar, 5231.0 meter, -34.3 degree_Celsius, -52.3 degree_Celsius, nan meter / second, nan meter / second\n",
      "500.0 millibar, 5370.0 meter, -34.5 degree_Celsius, -52.5 degree_Celsius, 15.871194031748772 meter / second, 15.871194031748772 meter / second\n",
      "463.0 millibar, 5906.0 meter, -34.5 degree_Celsius, -52.5 degree_Celsius, nan meter / second, nan meter / second\n",
      "423.0 millibar, 6530.0 meter, -38.5 degree_Celsius, -53.5 degree_Celsius, nan meter / second, nan meter / second\n",
      "409.0 millibar, 6761.0 meter, -38.7 degree_Celsius, -53.7 degree_Celsius, nan meter / second, nan meter / second\n",
      "400.0 millibar, 6920.0 meter, -39.9 degree_Celsius, -54.9 degree_Celsius, 19.70644061366208 meter / second, 19.70644061366208 meter / second\n",
      "300.0 millibar, 8820.0 meter, -54.7 degree_Celsius, -66.7 degree_Celsius, 16.643502483675984 meter / second, 16.643502483675984 meter / second\n",
      "255.0 millibar, 9842.0 meter, -58.1 degree_Celsius, -69.1 degree_Celsius, nan meter / second, nan meter / second\n",
      "250.0 millibar, 9970.0 meter, -58.3 degree_Celsius, -69.3 degree_Celsius, 20.586192426771994 meter / second, 20.586192426771994 meter / second\n",
      "228.0 millibar, 10548.0 meter, -58.5 degree_Celsius, -69.5 degree_Celsius, nan meter / second, nan meter / second\n",
      "214.0 millibar, 10946.0 meter, -57.7 degree_Celsius, -68.7 degree_Celsius, nan meter / second, nan meter / second\n",
      "209.0 millibar, 11095.0 meter, -56.5 degree_Celsius, -68.5 degree_Celsius, nan meter / second, nan meter / second\n",
      "200.0 millibar, 11380.0 meter, -56.7 degree_Celsius, -68.7 degree_Celsius, 21.523948070453812 meter / second, 21.523948070453812 meter / second\n",
      "192.0 millibar, 11637.0 meter, -57.7 degree_Celsius, -69.7 degree_Celsius, nan meter / second, nan meter / second\n",
      "183.0 millibar, 11939.0 meter, -57.5 degree_Celsius, -69.5 degree_Celsius, nan meter / second, nan meter / second\n",
      "175.0 millibar, 12219.0 meter, -59.1 degree_Celsius, -70.1 degree_Celsius, nan meter / second, nan meter / second\n",
      "168.0 millibar, 12474.0 meter, -59.7 degree_Celsius, -70.7 degree_Celsius, nan meter / second, nan meter / second\n",
      "163.0 millibar, 12662.0 meter, -59.9 degree_Celsius, -70.9 degree_Celsius, nan meter / second, nan meter / second\n",
      "156.0 millibar, 12936.0 meter, -58.7 degree_Celsius, -69.7 degree_Celsius, nan meter / second, nan meter / second\n",
      "150.0 millibar, 13190.0 meter, -58.9 degree_Celsius, -69.9 degree_Celsius, 17.77098662482027 meter / second, 17.77098662482027 meter / second\n",
      "141.0 millibar, 13577.0 meter, -59.5 degree_Celsius, -70.5 degree_Celsius, nan meter / second, nan meter / second\n",
      "130.0 millibar, 14084.0 meter, -59.1 degree_Celsius, -70.1 degree_Celsius, nan meter / second, nan meter / second\n",
      "111.0 millibar, 15064.0 meter, -62.5 degree_Celsius, -73.5 degree_Celsius, nan meter / second, nan meter / second\n",
      "106.0 millibar, 15348.0 meter, -61.9 degree_Celsius, -72.9 degree_Celsius, nan meter / second, nan meter / second\n",
      "104.0 millibar, 15465.0 meter, -62.7 degree_Celsius, -73.7 degree_Celsius, nan meter / second, nan meter / second\n",
      "100.0 millibar, 15710.0 meter, -61.7 degree_Celsius, -72.7 degree_Celsius, 25.966442580763378 meter / second, 25.966442580763378 meter / second\n",
      "91.5 millibar, 16259.0 meter, -61.5 degree_Celsius, -72.5 degree_Celsius, nan meter / second, nan meter / second\n",
      "78.4 millibar, 17204.0 meter, -66.1 degree_Celsius, -76.1 degree_Celsius, nan meter / second, nan meter / second\n",
      "70.0 millibar, 17900.0 meter, -65.9 degree_Celsius, -75.9 degree_Celsius, 35.28541405541005 meter / second, 35.28541405541005 meter / second\n",
      "68.6 millibar, 18022.0 meter, -65.9 degree_Celsius, -75.9 degree_Celsius, nan meter / second, nan meter / second\n",
      "57.6 millibar, 19071.0 meter, -69.3 degree_Celsius, -79.3 degree_Celsius, nan meter / second, nan meter / second\n",
      "52.0 millibar, 19680.0 meter, -69.1 degree_Celsius, -79.1 degree_Celsius, nan meter / second, nan meter / second\n",
      "50.0 millibar, 19920.0 meter, -68.1 degree_Celsius, -78.1 degree_Celsius, 35.713279594184144 meter / second, 35.713279594184144 meter / second\n",
      "47.2 millibar, 20266.0 meter, -66.5 degree_Celsius, -76.5 degree_Celsius, nan meter / second, nan meter / second\n",
      "30.0 millibar, 23000.0 meter, -67.9 degree_Celsius, -77.9 degree_Celsius, 41.83322284919748 meter / second, 41.83322284919748 meter / second\n",
      "20.0 millibar, 25420.0 meter, -69.5 degree_Celsius, -79.5 degree_Celsius, 40.37815422835583 meter / second, 40.37815422835583 meter / second\n",
      "19.9 millibar, 25450.0 meter, -69.5 degree_Celsius, -79.5 degree_Celsius, nan meter / second, nan meter / second\n"
     ]
    }
   ],
   "source": [
    "print(f'{station[0]}, {validUTC[0]}')\n",
    "for i in range (len(pressure_mb_subset)):\n",
    "    print(f'{pressure_mb_subset[i]}, {height_m_subset[i]}, {tmpc_subset[i]}, {dwpc_subset[i]}, {u[i]}, {v[i]}')\n",
    "\n",
    "#f is used for formatting\n"
   ]
  },
  {
   "cell_type": "markdown",
   "id": "4217c837",
   "metadata": {},
   "source": [
    "### SAVE TO CSV FILE ###\n",
    "Save to CSV without units.  The CSV file should be named KBIS_sounding.csv. Include the following header:\n",
    "\n",
    "{STATION} - {VALID UTC}<br>\n",
    "pressure[mb],height[m],temperature[degC],dewpoint[degC],u-wind[m/s],v-wind[m/s]\n",
    "\n",
    "Make sure that the winds are limited to 2 decimal places."
   ]
  },
  {
   "cell_type": "code",
   "execution_count": 11,
   "id": "0a123e09",
   "metadata": {},
   "outputs": [],
   "source": [
    "with open('KBIS_sounding.csv', 'w') as outfile:\n",
    "    #write to the file\n",
    "    outfile.write(f\"{station[0]} - {validUTC[0]}\\n\")\n",
    "    outfile.write(f\"pressure[mb],height[m],temperature[degC],dewpoint[degC],u-wind[m/s],v-wind[m/s]\\n\")\n",
    "    for i in range(len(pressure_mb_subset)):\n",
    "        outfile.write(f\"{pressure_mb_subset[i].magnitude},\")\n",
    "        outfile.write(f\"{height_m_subset[i].magnitude},\")\n",
    "        outfile.write(f\"{tmpc_subset[i].magnitude},\")\n",
    "        outfile.write(f\"{dwpc_subset[i].magnitude},\")\n",
    "        #write u and v as floats with 2 decimal places and a leading zero\n",
    "        outfile.write(f\"{u[i].magnitude:0.2f},\")\n",
    "        outfile.write(f\"{v[i].magnitude:0.2f}\\n\")\n",
    "\n",
    "    #close file\n",
    "    outfile.close\n",
    "\n",
    "#out_file = open (\"KBIS_sounding.csv\", \"w\")\n",
    "#write to the file\n",
    "#close the file\n",
    "#outfile.close\n",
    "\n",
    "#Just another way to do this\n",
    "# \\n to start a new line"
   ]
  },
  {
   "cell_type": "markdown",
   "id": "cccc9432",
   "metadata": {},
   "source": [
    "### OPEN THE CSV FILE IN NUMPY ###\n",
    "\n",
    "Here, we are going to use the numpy genfromtxt() function - np.genfromtxt()\n",
    "\n",
    "https://numpy.org/doc/stable/reference/generated/numpy.genfromtxt.html\n",
    "\n",
    "use the names press,height,temp,dwpt,u,v"
   ]
  },
  {
   "cell_type": "code",
   "execution_count": 17,
   "id": "0db560cc",
   "metadata": {},
   "outputs": [
    {
     "name": "stdout",
     "output_type": "stream",
     "text": [
      "[(1000. ,   355.,   nan,   nan,   nan,   nan)\n",
      " ( 959. ,   649., -25.3, -28.8,   nan,   nan)\n",
      " ( 949. ,   726., -24.1, -27.6,   nan,   nan)\n",
      " ( 936. ,   826., -22.7, -28.7,   nan,   nan)\n",
      " ( 925. ,   915., -22.9, -28.9,  2.98,  2.98)\n",
      " ( 898. ,  1131., -22.9, -28.9,   nan,   nan)\n",
      " ( 851. ,  1526., -21.3, -35.3,   nan,   nan)\n",
      " ( 850. ,  1536., -21.3, -35.3,  2.57,  2.57)\n",
      " ( 763. ,  2328., -22.5, -40.5,   nan,   nan)\n",
      " ( 730. ,  2651., -24.1, -41.1,   nan,   nan)\n",
      " ( 721. ,  2741., -23.1, -41.1,   nan,   nan)\n",
      " ( 707. ,  2884., -22.9, -41.9,   nan,   nan)\n",
      " ( 700. ,  2961., -23.3, -43.3,  7.83,  7.83)\n",
      " ( 610. ,  3960., -25.9, -43.9,   nan,   nan)\n",
      " ( 510. ,  5231., -34.3, -52.3,   nan,   nan)\n",
      " ( 500. ,  5370., -34.5, -52.5, 15.87, 15.87)\n",
      " ( 463. ,  5906., -34.5, -52.5,   nan,   nan)\n",
      " ( 423. ,  6530., -38.5, -53.5,   nan,   nan)\n",
      " ( 409. ,  6761., -38.7, -53.7,   nan,   nan)\n",
      " ( 400. ,  6920., -39.9, -54.9, 19.71, 19.71)\n",
      " ( 300. ,  8820., -54.7, -66.7, 16.64, 16.64)\n",
      " ( 255. ,  9842., -58.1, -69.1,   nan,   nan)\n",
      " ( 250. ,  9970., -58.3, -69.3, 20.59, 20.59)\n",
      " ( 228. , 10548., -58.5, -69.5,   nan,   nan)\n",
      " ( 214. , 10946., -57.7, -68.7,   nan,   nan)\n",
      " ( 209. , 11095., -56.5, -68.5,   nan,   nan)\n",
      " ( 200. , 11380., -56.7, -68.7, 21.52, 21.52)\n",
      " ( 192. , 11637., -57.7, -69.7,   nan,   nan)\n",
      " ( 183. , 11939., -57.5, -69.5,   nan,   nan)\n",
      " ( 175. , 12219., -59.1, -70.1,   nan,   nan)\n",
      " ( 168. , 12474., -59.7, -70.7,   nan,   nan)\n",
      " ( 163. , 12662., -59.9, -70.9,   nan,   nan)\n",
      " ( 156. , 12936., -58.7, -69.7,   nan,   nan)\n",
      " ( 150. , 13190., -58.9, -69.9, 17.77, 17.77)\n",
      " ( 141. , 13577., -59.5, -70.5,   nan,   nan)\n",
      " ( 130. , 14084., -59.1, -70.1,   nan,   nan)\n",
      " ( 111. , 15064., -62.5, -73.5,   nan,   nan)\n",
      " ( 106. , 15348., -61.9, -72.9,   nan,   nan)\n",
      " ( 104. , 15465., -62.7, -73.7,   nan,   nan)\n",
      " ( 100. , 15710., -61.7, -72.7, 25.97, 25.97)\n",
      " (  91.5, 16259., -61.5, -72.5,   nan,   nan)\n",
      " (  78.4, 17204., -66.1, -76.1,   nan,   nan)\n",
      " (  70. , 17900., -65.9, -75.9, 35.29, 35.29)\n",
      " (  68.6, 18022., -65.9, -75.9,   nan,   nan)\n",
      " (  57.6, 19071., -69.3, -79.3,   nan,   nan)\n",
      " (  52. , 19680., -69.1, -79.1,   nan,   nan)\n",
      " (  50. , 19920., -68.1, -78.1, 35.71, 35.71)\n",
      " (  47.2, 20266., -66.5, -76.5,   nan,   nan)\n",
      " (  30. , 23000., -67.9, -77.9, 41.83, 41.83)\n",
      " (  20. , 25420., -69.5, -79.5, 40.38, 40.38)\n",
      " (  19.9, 25450., -69.5, -79.5,   nan,   nan)]\n"
     ]
    }
   ],
   "source": [
    "data = np.genfromtxt('KBIS_sounding.csv', delimiter=',', skip_header=2, names='press,height,temp,dwpt,u,v')\n",
    "print(data)"
   ]
  },
  {
   "cell_type": "markdown",
   "id": "717119e8",
   "metadata": {},
   "source": [
    "### RUN THE CELL BELOW ###\n",
    "If the code above was correct, it should print out the pressure as an array, then temperature as an array, and finally, u-wind component as an array - all with units.\n",
    "\n",
    "Note that the units are now outside the array instead of applied to each element as they were in the list."
   ]
  },
  {
   "cell_type": "code",
   "execution_count": null,
   "id": "2d50731a",
   "metadata": {},
   "outputs": [],
   "source": []
  },
  {
   "cell_type": "markdown",
   "id": "c73a0ad7",
   "metadata": {},
   "source": [
    "### OPEN THE CSV FILE IN PANDAS ###\n",
    "Now we are going to open the CSV file into a pandas dataframe.\n",
    "\n",
    "Dataframes are somewhat like arrays but a bit more complicated.\n",
    "\n",
    "Here, we will use the pandas.read_csv() function - pd.read_csv()\n",
    "\n",
    "Use the same names as above.\n",
    "\n",
    "https://pandas.pydata.org/docs/reference/api/pandas.read_csv.html"
   ]
  },
  {
   "cell_type": "code",
   "execution_count": 20,
   "id": "3299a386",
   "metadata": {},
   "outputs": [],
   "source": [
    "data = pd.read_csv(\"KBIS_sounding.csv\", delimiter=',', skiprows=1)"
   ]
  },
  {
   "cell_type": "markdown",
   "id": "6eeb0151",
   "metadata": {},
   "source": [
    "### NOW PRINT THE DATAFRAME ###\n",
    "If done correctly, you should see the column names auto-populated."
   ]
  },
  {
   "cell_type": "code",
   "execution_count": 21,
   "id": "f053bec3",
   "metadata": {},
   "outputs": [
    {
     "name": "stdout",
     "output_type": "stream",
     "text": [
      "    pressure[mb]  height[m]  temperature[degC]  dewpoint[degC]  u-wind[m/s]  \\\n",
      "0         1000.0      355.0                NaN             NaN          NaN   \n",
      "1          959.0      649.0              -25.3           -28.8          NaN   \n",
      "2          949.0      726.0              -24.1           -27.6          NaN   \n",
      "3          936.0      826.0              -22.7           -28.7          NaN   \n",
      "4          925.0      915.0              -22.9           -28.9         2.98   \n",
      "5          898.0     1131.0              -22.9           -28.9          NaN   \n",
      "6          851.0     1526.0              -21.3           -35.3          NaN   \n",
      "7          850.0     1536.0              -21.3           -35.3         2.57   \n",
      "8          763.0     2328.0              -22.5           -40.5          NaN   \n",
      "9          730.0     2651.0              -24.1           -41.1          NaN   \n",
      "10         721.0     2741.0              -23.1           -41.1          NaN   \n",
      "11         707.0     2884.0              -22.9           -41.9          NaN   \n",
      "12         700.0     2961.0              -23.3           -43.3         7.83   \n",
      "13         610.0     3960.0              -25.9           -43.9          NaN   \n",
      "14         510.0     5231.0              -34.3           -52.3          NaN   \n",
      "15         500.0     5370.0              -34.5           -52.5        15.87   \n",
      "16         463.0     5906.0              -34.5           -52.5          NaN   \n",
      "17         423.0     6530.0              -38.5           -53.5          NaN   \n",
      "18         409.0     6761.0              -38.7           -53.7          NaN   \n",
      "19         400.0     6920.0              -39.9           -54.9        19.71   \n",
      "20         300.0     8820.0              -54.7           -66.7        16.64   \n",
      "21         255.0     9842.0              -58.1           -69.1          NaN   \n",
      "22         250.0     9970.0              -58.3           -69.3        20.59   \n",
      "23         228.0    10548.0              -58.5           -69.5          NaN   \n",
      "24         214.0    10946.0              -57.7           -68.7          NaN   \n",
      "25         209.0    11095.0              -56.5           -68.5          NaN   \n",
      "26         200.0    11380.0              -56.7           -68.7        21.52   \n",
      "27         192.0    11637.0              -57.7           -69.7          NaN   \n",
      "28         183.0    11939.0              -57.5           -69.5          NaN   \n",
      "29         175.0    12219.0              -59.1           -70.1          NaN   \n",
      "30         168.0    12474.0              -59.7           -70.7          NaN   \n",
      "31         163.0    12662.0              -59.9           -70.9          NaN   \n",
      "32         156.0    12936.0              -58.7           -69.7          NaN   \n",
      "33         150.0    13190.0              -58.9           -69.9        17.77   \n",
      "34         141.0    13577.0              -59.5           -70.5          NaN   \n",
      "35         130.0    14084.0              -59.1           -70.1          NaN   \n",
      "36         111.0    15064.0              -62.5           -73.5          NaN   \n",
      "37         106.0    15348.0              -61.9           -72.9          NaN   \n",
      "38         104.0    15465.0              -62.7           -73.7          NaN   \n",
      "39         100.0    15710.0              -61.7           -72.7        25.97   \n",
      "40          91.5    16259.0              -61.5           -72.5          NaN   \n",
      "41          78.4    17204.0              -66.1           -76.1          NaN   \n",
      "42          70.0    17900.0              -65.9           -75.9        35.29   \n",
      "43          68.6    18022.0              -65.9           -75.9          NaN   \n",
      "44          57.6    19071.0              -69.3           -79.3          NaN   \n",
      "45          52.0    19680.0              -69.1           -79.1          NaN   \n",
      "46          50.0    19920.0              -68.1           -78.1        35.71   \n",
      "47          47.2    20266.0              -66.5           -76.5          NaN   \n",
      "48          30.0    23000.0              -67.9           -77.9        41.83   \n",
      "49          20.0    25420.0              -69.5           -79.5        40.38   \n",
      "50          19.9    25450.0              -69.5           -79.5          NaN   \n",
      "\n",
      "    v-wind[m/s]  \n",
      "0           NaN  \n",
      "1           NaN  \n",
      "2           NaN  \n",
      "3           NaN  \n",
      "4          2.98  \n",
      "5           NaN  \n",
      "6           NaN  \n",
      "7          2.57  \n",
      "8           NaN  \n",
      "9           NaN  \n",
      "10          NaN  \n",
      "11          NaN  \n",
      "12         7.83  \n",
      "13          NaN  \n",
      "14          NaN  \n",
      "15        15.87  \n",
      "16          NaN  \n",
      "17          NaN  \n",
      "18          NaN  \n",
      "19        19.71  \n",
      "20        16.64  \n",
      "21          NaN  \n",
      "22        20.59  \n",
      "23          NaN  \n",
      "24          NaN  \n",
      "25          NaN  \n",
      "26        21.52  \n",
      "27          NaN  \n",
      "28          NaN  \n",
      "29          NaN  \n",
      "30          NaN  \n",
      "31          NaN  \n",
      "32          NaN  \n",
      "33        17.77  \n",
      "34          NaN  \n",
      "35          NaN  \n",
      "36          NaN  \n",
      "37          NaN  \n",
      "38          NaN  \n",
      "39        25.97  \n",
      "40          NaN  \n",
      "41          NaN  \n",
      "42        35.29  \n",
      "43          NaN  \n",
      "44          NaN  \n",
      "45          NaN  \n",
      "46        35.71  \n",
      "47          NaN  \n",
      "48        41.83  \n",
      "49        40.38  \n",
      "50          NaN  \n"
     ]
    }
   ],
   "source": [
    "print(data)\n",
    "#can print out specific levels, such as just pressure or just height\n",
    "#print(data['press'])"
   ]
  },
  {
   "cell_type": "code",
   "execution_count": null,
   "id": "953d1c03-b9f1-461c-b005-61fa11cc29f1",
   "metadata": {},
   "outputs": [],
   "source": []
  }
 ],
 "metadata": {
  "kernelspec": {
   "display_name": "Python 3 (ipykernel)",
   "language": "python",
   "name": "python3"
  },
  "language_info": {
   "codemirror_mode": {
    "name": "ipython",
    "version": 3
   },
   "file_extension": ".py",
   "mimetype": "text/x-python",
   "name": "python",
   "nbconvert_exporter": "python",
   "pygments_lexer": "ipython3",
   "version": "3.11.7"
  }
 },
 "nbformat": 4,
 "nbformat_minor": 5
}
