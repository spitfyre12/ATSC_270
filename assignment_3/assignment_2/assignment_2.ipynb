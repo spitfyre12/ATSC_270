{
 "cells": [
  {
   "cell_type": "markdown",
   "id": "bd61f82f",
   "metadata": {},
   "source": [
    "# ASSIGNMENT #2 - ATMOSPHERIC SOUNDINGS #\n",
    "Due: 04 February 2023 @ 11:59p"
   ]
  },
  {
   "cell_type": "markdown",
   "id": "816b3dd4",
   "metadata": {},
   "source": [
    "Purpose:\\\n",
    "The purpose of this assignment is to become familiar with reading in text data, storing the data in arrays, applying metpy units, and outputting the data into easily read files.\n",
    "\n",
    "Overview:\\\n",
    "In this assignment you will read in atmospheric sounding data and apply units to the data and print the data to a text file and a comma-separated value (csv) text file.\n",
    "\n",
    "\n",
    "| | UPDATE TO YOUR INFORMATION | \n",
    "| :- | :- |\n",
    "| Created By | Jared W. Marquis |\n",
    "| Creation Date | 09 January 2024 |\n",
    "| Course | ATSC 270 - Computer Concepts in Meteorology |"
   ]
  },
  {
   "cell_type": "code",
   "execution_count": 1,
   "id": "eb870142",
   "metadata": {},
   "outputs": [],
   "source": [
    "### UPDATE TO YOUR INFORMATION ###\n",
    "#information allowing anyone with the code to print the author and contact information\n",
    "__author__    = \"Rebecca Jacoby\"\n",
    "__contact__   = \"rebecca.jacoby@ndus.edu\""
   ]
  },
  {
   "cell_type": "markdown",
   "id": "7dec3f1b",
   "metadata": {},
   "source": [
    "### IMPORT REQUIRED LIBRARIES ###"
   ]
  },
  {
   "cell_type": "code",
   "execution_count": 1,
   "id": "b4b5cb45",
   "metadata": {},
   "outputs": [],
   "source": [
    "import numpy as np\n",
    "from metpy.calc import wind_components\n",
    "from metpy.units import units\n",
    "import pandas as pd"
   ]
  },
  {
   "cell_type": "markdown",
   "id": "1df8fe8f",
   "metadata": {},
   "source": [
    "### OPEN SOUNDING FILE ###"
   ]
  },
  {
   "cell_type": "code",
   "execution_count": 2,
   "id": "2a62a4f1",
   "metadata": {},
   "outputs": [],
   "source": [
    "#open file\n",
    "sounding_file = open (\"KBIS_2009011512.txt\", \"r\").readlines()\n"
   ]
  },
  {
   "cell_type": "markdown",
   "id": "133b2f64",
   "metadata": {},
   "source": [
    "### READ IN DATA INTO LISTS ###"
   ]
  },
  {
   "cell_type": "code",
   "execution_count": 9,
   "id": "65907f20",
   "metadata": {},
   "outputs": [
    {
     "name": "stdout",
     "output_type": "stream",
     "text": [
      "['KBIS', 'KBIS', 'KBIS', 'KBIS', 'KBIS', 'KBIS', 'KBIS', 'KBIS', 'KBIS', 'KBIS', 'KBIS', 'KBIS', 'KBIS', 'KBIS', 'KBIS', 'KBIS', 'KBIS', 'KBIS', 'KBIS', 'KBIS', 'KBIS', 'KBIS', 'KBIS', 'KBIS', 'KBIS', 'KBIS', 'KBIS', 'KBIS', 'KBIS', 'KBIS', 'KBIS', 'KBIS', 'KBIS', 'KBIS', 'KBIS', 'KBIS', 'KBIS', 'KBIS', 'KBIS', 'KBIS', 'KBIS', 'KBIS', 'KBIS', 'KBIS', 'KBIS', 'KBIS', 'KBIS', 'KBIS', 'KBIS', 'KBIS', 'KBIS', 'KBIS', 'KBIS', 'KBIS', 'KBIS', 'KBIS', 'KBIS', 'KBIS', 'KBIS', 'KBIS', 'KBIS', 'KBIS', 'KBIS', 'KBIS', 'KBIS', 'KBIS', 'KBIS', 'KBIS', 'KBIS', 'KBIS', 'KBIS', 'KBIS', 'KBIS', 'KBIS', 'KBIS', 'KBIS', 'KBIS', 'KBIS', 'KBIS', 'KBIS']\n",
      "['2009-01-15 12:00:00', '2009-01-15 12:00:00', '2009-01-15 12:00:00', '2009-01-15 12:00:00', '2009-01-15 12:00:00', '2009-01-15 12:00:00', '2009-01-15 12:00:00', '2009-01-15 12:00:00', '2009-01-15 12:00:00', '2009-01-15 12:00:00', '2009-01-15 12:00:00', '2009-01-15 12:00:00', '2009-01-15 12:00:00', '2009-01-15 12:00:00', '2009-01-15 12:00:00', '2009-01-15 12:00:00', '2009-01-15 12:00:00', '2009-01-15 12:00:00', '2009-01-15 12:00:00', '2009-01-15 12:00:00', '2009-01-15 12:00:00', '2009-01-15 12:00:00', '2009-01-15 12:00:00', '2009-01-15 12:00:00', '2009-01-15 12:00:00', '2009-01-15 12:00:00', '2009-01-15 12:00:00', '2009-01-15 12:00:00', '2009-01-15 12:00:00', '2009-01-15 12:00:00', '2009-01-15 12:00:00', '2009-01-15 12:00:00', '2009-01-15 12:00:00', '2009-01-15 12:00:00', '2009-01-15 12:00:00', '2009-01-15 12:00:00', '2009-01-15 12:00:00', '2009-01-15 12:00:00', '2009-01-15 12:00:00', '2009-01-15 12:00:00', '2009-01-15 12:00:00', '2009-01-15 12:00:00', '2009-01-15 12:00:00', '2009-01-15 12:00:00', '2009-01-15 12:00:00', '2009-01-15 12:00:00', '2009-01-15 12:00:00', '2009-01-15 12:00:00', '2009-01-15 12:00:00', '2009-01-15 12:00:00', '2009-01-15 12:00:00', '2009-01-15 12:00:00', '2009-01-15 12:00:00', '2009-01-15 12:00:00', '2009-01-15 12:00:00', '2009-01-15 12:00:00', '2009-01-15 12:00:00', '2009-01-15 12:00:00', '2009-01-15 12:00:00', '2009-01-15 12:00:00', '2009-01-15 12:00:00', '2009-01-15 12:00:00', '2009-01-15 12:00:00', '2009-01-15 12:00:00', '2009-01-15 12:00:00', '2009-01-15 12:00:00', '2009-01-15 12:00:00', '2009-01-15 12:00:00', '2009-01-15 12:00:00', '2009-01-15 12:00:00', '2009-01-15 12:00:00', '2009-01-15 12:00:00', '2009-01-15 12:00:00', '2009-01-15 12:00:00', '2009-01-15 12:00:00', '2009-01-15 12:00:00', '2009-01-15 12:00:00', '2009-01-15 12:00:00', '2009-01-15 12:00:00', '2009-01-15 12:00:00']\n",
      "['4', '9', '5', '5', '5', '6', '4', '5', '6', '5', '4', '6', '6', '5', '6', '5', '5', '6', '5', '4', '6', '5', '6', '6', '6', '5', '4', '5', '6', '5', '5', '4', '6', '6', '4', '6', '6', '6', '5', '4', '5', '5', '5', '6', '4', '5', '5', '5', '5', '5', '6', '5', '4', '5', '5', '5', '6', '5', '5', '4', '5', '5', '6', '4', '5', '6', '5', '6', '5', '4', '5', '6', '6', '6', '6', '4', '6', '6', '4', '5']\n",
      "['1000.0', '979.0', '959.0', '949.0', '936.0', '925.1', '925.0', '898.0', '887.3', '851.0', '850.0', '816.8', '783.6', '763.0', '751.6', '730.0', '721.0', '720.8', '707.0', '700.0', '636.0', '610.0', '584.2', '536.2', '513.6', '510.0', '500.0', '463.0', '450.4', '423.0', '409.0', '400.0', '394.6', '359.8', '300.0', '284.9', '274.0', '271.5', '255.0', '250.0', '228.0', '214.0', '209.0', '203.2', '200.0', '192.0', '183.0', '175.0', '168.0', '163.0', '159.4', '156.0', '150.0', '141.0', '130.0', '111.0', '107.9', '106.0', '104.0', '100.0', '91.5', '78.4', '76.3', '70.0', '68.6', '65.6', '57.6', '53.5', '52.0', '50.0', '47.2', '41.6', '39.5', '30.7', '30.1', '30.0', '23.8', '20.4', '20.0', '19.9']\n",
      "['M', '-35.7', '-25.3', '-24.1', '-22.7', 'M', '-22.9', '-22.9', 'M', '-21.3', '-21.3', 'M', 'M', '-22.5', 'M', '-24.1', '-23.1', 'M', '-22.9', '-23.3', 'M', '-25.9', 'M', 'M', 'M', '-34.3', '-34.5', '-34.5', 'M', '-38.5', '-38.7', '-39.9', 'M', 'M', '-54.7', 'M', 'M', 'M', '-58.1', '-58.3', '-58.5', '-57.7', '-56.5', 'M', '-56.7', '-57.7', '-57.5', '-59.1', '-59.7', '-59.9', 'M', '-58.7', '-58.9', '-59.5', '-59.1', '-62.5', 'M', '-61.9', '-62.7', '-61.7', '-61.5', '-66.1', 'M', '-65.9', '-65.9', 'M', '-69.3', 'M', '-69.1', '-68.1', '-66.5', 'M', 'M', 'M', 'M', '-67.9', 'M', 'M', '-69.5', '-69.5']\n",
      "['M', '-39.8', '-28.8', '-27.6', '-28.7', 'M', '-28.9', '-28.9', 'M', '-35.3', '-35.3', 'M', 'M', '-40.5', 'M', '-41.1', '-41.1', 'M', '-41.9', '-43.3', 'M', '-43.9', 'M', 'M', 'M', '-52.3', '-52.5', '-52.5', 'M', '-53.5', '-53.7', '-54.9', 'M', 'M', '-66.7', 'M', 'M', 'M', '-69.1', '-69.3', '-69.5', '-68.7', '-68.5', 'M', '-68.7', '-69.7', '-69.5', '-70.1', '-70.7', '-70.9', 'M', '-69.7', '-69.9', '-70.5', '-70.1', '-73.5', 'M', '-72.9', '-73.7', '-72.7', '-72.5', '-76.1', 'M', '-75.9', '-75.9', 'M', '-79.3', 'M', '-79.1', '-78.1', '-76.5', 'M', 'M', 'M', 'M', '-77.9', 'M', 'M', '-79.5', '-79.5']\n",
      "['M', '0.0', 'M', 'M', 'M', '280.0', '285.0', 'M', '320.0', 'M', '330.0', '320.0', '335.0', 'M', '340.0', 'M', 'M', '335.0', 'M', '335.0', '335.0', 'M', '335.0', '335.0', '335.0', 'M', '335.0', 'M', '340.0', 'M', 'M', '340.0', '340.0', '340.0', '345.0', '345.0', '340.0', '340.0', 'M', '340.0', 'M', 'M', 'M', '335.0', '335.0', 'M', 'M', 'M', 'M', 'M', '335.0', 'M', '340.0', 'M', 'M', 'M', '330.0', 'M', 'M', '325.0', 'M', 'M', '320.0', '315.0', 'M', '315.0', 'M', '325.0', 'M', '320.0', 'M', '320.0', '315.0', '315.0', '315.0', '315.0', '315.0', '310.0', '315.0', 'M']\n",
      "['M', '0', 'M', 'M', 'M', '6', '6', 'M', '10', 'M', '10', '15', '17', 'M', '22', 'M', 'M', '32', 'M', '36', '50', 'M', '62', '67', '69', 'M', '73', 'M', '94', 'M', 'M', '112', '112', '118', '125', '131', '132', '132', 'M', '117', 'M', 'M', 'M', '98', '99', 'M', 'M', 'M', 'M', 'M', '106', 'M', '101', 'M', 'M', 'M', '93', 'M', 'M', '88', 'M', 'M', '86', '97', 'M', '102', 'M', '113', 'M', '108', 'M', '100', '103', '115', '115', '115', '98', '110', '111', 'M']\n",
      "['M', '0.0', 'M', 'M', 'M', '139.0', '139.0', 'M', '127.0', 'M', '135.0', '139.0', '141.0', 'M', '145.0', 'M', 'M', '149.0', 'M', '150.0', '152.0', 'M', '153.0', '153.0', '153.0', 'M', '153.0', 'M', '154.0', 'M', 'M', '156.0', '156.0', '156.0', '158.0', '158.0', '158.0', '158.0', 'M', '159.0', 'M', 'M', 'M', '158.0', '158.0', 'M', 'M', 'M', 'M', 'M', '158.0', 'M', '158.0', 'M', 'M', 'M', '157.0', 'M', 'M', '157.0', 'M', 'M', '155.0', '155.0', 'M', '154.0', 'M', '153.0', 'M', '153.0', 'M', '152.0', '151.0', '150.0', '150.0', '150.0', '149.0', '148.0', '148.0', 'M']\n",
      "['M', '0.0', 'M', 'M', 'M', '0.0', '0.0', 'M', '0.0', 'M', '0.0', '0.0', '0.0', 'M', '1.0', 'M', 'M', '1.0', 'M', '2.0', '3.0', 'M', '5.0', '7.0', '8.0', 'M', '9.0', 'M', '13.0', 'M', 'M', '17.0', '18.0', '22.0', '30.0', '32.0', '34.0', '34.0', 'M', '38.0', 'M', 'M', 'M', '46.0', '46.0', 'M', 'M', 'M', 'M', 'M', '54.0', 'M', '56.0', 'M', 'M', 'M', '67.0', 'M', 'M', '70.0', 'M', 'M', '78.0', '80.0', 'M', '82.0', 'M', '89.0', 'M', '92.0', 'M', '98.0', '100.0', '108.0', '109.0', '109.0', '117.0', '122.0', '123.0', 'M']\n"
     ]
    }
   ],
   "source": [
    "#append works best here, even though appending is bad\n",
    "#station, validUTC, levelcode, pressure_mb,height_m,tmpc,dwpc,drct,speed,_kts,bearings,range_sm\n",
    "\n",
    "#create empty lists to hold sounding values\n",
    "station = []\n",
    "validUTC = []\n",
    "levelcode = []\n",
    "pressure_mb = []\n",
    "height_m = []\n",
    "tmpc = []\n",
    "dwpc = []\n",
    "drct = []\n",
    "speed_kts = []\n",
    "bearings = []\n",
    "range_sm = []\n",
    "\n",
    "#loop through each line in the sounding,skipping first line(header)\n",
    "for line in sounding_file[1:]:\n",
    "    station.append(line.split(\",\")[0])\n",
    "    validUTC.append(line.split(\",\")[1])\n",
    "    levelcode.append(line.split(\",\")[2])\n",
    "    pressure_mb.append(line.split(\",\")[3])\n",
    "    height_m.append(line.split(\",\")[4])\n",
    "    tmpc.append(line.split(\",\")[5])\n",
    "    dwpc.append(line.split(\",\")[6])\n",
    "    drct.append(line.split(\",\")[7])\n",
    "    speed_kts.append(line.split(\",\")[8])\n",
    "    bearings.append(line.split(\",\")[9])\n",
    "    #add rstrip() to get rid of  \"\\n\" at the end of range_sm\n",
    "    range_sm.append(line.split(\",\")[10].rstrip())\n",
    "    \n",
    "    \n",
    "    #for line in sounding_file[1:]:\n",
    "    #validUTC.append(line.split(\",\")[1]) This is just another way to do this\n",
    "\n",
    "print(station)\n",
    "print(validUTC)\n",
    "print(levelcode)\n",
    "print(pressure_mb)\n",
    "print(tmpc)\n",
    "print(dwpc)\n",
    "print(drct)\n",
    "print(speed_kts)\n",
    "print(bearings)\n",
    "print(range_sm)\n",
    "#print(len(sounding_file))\n",
    "#just 4 and 5\n",
    "#where is level code 4 and 5? Find the indexes! \n",
    "\n"
   ]
  },
  {
   "cell_type": "markdown",
   "id": "be194c5e",
   "metadata": {},
   "source": [
    "### SUBSET TO MANDATORY AND SIGNIFICANT LEVELS ###\n",
    "\n",
    "#### This should remove missing data ####\n",
    "\n",
    "| Level Code | Meaning |\n",
    "| --- | :- |\n",
    "| 4 | mandatory |\n",
    "| 5 | significant |\n",
    "| 6 | wind level (PPBB) |\n",
    "| 7 | tropopause level |\n",
    "| 8 | maximum wind level |\n",
    "| 9 | surface level |"
   ]
  },
  {
   "cell_type": "code",
   "execution_count": 12,
   "id": "0095a064",
   "metadata": {},
   "outputs": [],
   "source": [
    "#creating empty lists to hold values from mandatory (4) and significant (5) levels\n",
    "station_subset = []\n",
    "validUTC_subset = []\n",
    "levelcode_subset = []\n",
    "pressure_mb_subset = []\n",
    "height_m_subset = []\n",
    "tmpc_subset = []\n",
    "dwpc_subset = []\n",
    "drct_subset = []\n",
    "speed_kts_subset = []\n",
    "bearings_subset = []\n",
    "range_sm_subset = []\n",
    "\n",
    "\n",
    "\n",
    "\n",
    "#looping through each level in the sounding \n",
    "#to check if it's a mandatory or significant level\n",
    "##we're doing this by looping through the indices\n",
    "\n",
    "for i in range (len(levelcode)):\n",
    "    #if level code is mandatory or significant\n",
    "    if levelcode[i] == '4' or levelcode[i] == '5':\n",
    "        #add the variable at that level to each list\n",
    "        station_subset.append(station[i])\n",
    "        validUTC_subset.append(validUTC[i])\n",
    "        levelcode_subset.append(levelcode[i])\n",
    "        pressure_mb_subset.append(pressure_mb[i])\n",
    "        height_m_subset.append(height_m[i])\n",
    "        tmpc_subset.append(tmpc[i])\n",
    "        dwpc_subset.append(dwpc[i])\n",
    "        drct_subset.append(drct[i])\n",
    "        speed_kts_subset.append(speed_kts[i])\n",
    "        bearings_subset.append(bearings[i])\n",
    "        range_sm_subset.append(range_sm[i])\n"
   ]
  },
  {
   "cell_type": "markdown",
   "id": "0672b7d3",
   "metadata": {},
   "source": [
    "### CONVERT STRINGS ###\n",
    "Some data needs to be floating point numbers, some needs to be integers, some should stay as strings.\n",
    "\n",
    "Hint: You can leave the UTC time as a string and anything that needs NaNs will be a floating point."
   ]
  },
  {
   "cell_type": "code",
   "execution_count": 13,
   "id": "99b298a4",
   "metadata": {},
   "outputs": [
    {
     "ename": "ValueError",
     "evalue": "could not convert string to float: 'M'",
     "output_type": "error",
     "traceback": [
      "\u001b[0;31m---------------------------------------------------------------------------\u001b[0m",
      "\u001b[0;31mValueError\u001b[0m                                Traceback (most recent call last)",
      "Cell \u001b[0;32mIn[13], line 6\u001b[0m\n\u001b[1;32m      4\u001b[0m pressure_mb_subset[i] \u001b[38;5;241m=\u001b[39m \u001b[38;5;28mfloat\u001b[39m(pressure_mb_subset[i])\n\u001b[1;32m      5\u001b[0m height_m_subset[i] \u001b[38;5;241m=\u001b[39m \u001b[38;5;28mfloat\u001b[39m(height_m_subset[i])\n\u001b[0;32m----> 6\u001b[0m tmpc_subset[i] \u001b[38;5;241m=\u001b[39m \u001b[38;5;28mfloat\u001b[39m(tmpc_subset[i])\n\u001b[1;32m      7\u001b[0m dwpc_subset[i] \u001b[38;5;241m=\u001b[39m \u001b[38;5;28mfloat\u001b[39m(dwpc_subset[i])\n\u001b[1;32m      8\u001b[0m drct_subset[i] \u001b[38;5;241m=\u001b[39m \u001b[38;5;28mfloat\u001b[39m(drct_subset[i])\n",
      "\u001b[0;31mValueError\u001b[0m: could not convert string to float: 'M'"
     ]
    }
   ],
   "source": [
    "#loop through each level in subset of 4's and 5's\n",
    "for i in range(len(levelcode_subset)):\n",
    "    #convert data from i-th level from a string to a float/int number\n",
    "    #UTC and Station do not need to be converted, strings are fine\n",
    "        \n",
    "    levelcode_subset[i] = int(levelcode_subset[i])\n",
    "\n",
    "    if pressure_mb_subset[i] == 'M':\n",
    "        pressure_mb_subset[i] = float('NaN')\n",
    "\n",
    "    else:\n",
    "        pressure_mb_subset[i] = float(pressure_mb_subset[i])\n",
    "\n",
    "    if:\n",
    "    else:\n",
    "    \n",
    "    height_m_subset[i] = float(height_m_subset[i])\n",
    "    \n",
    "    \n",
    "    tmpc_subset[i] = float(tmpc_subset[i])\n",
    "    \n",
    "    \n",
    "    dwpc_subset[i] = float(dwpc_subset[i])\n",
    "    \n",
    "    \n",
    "    drct_subset[i] = float(drct_subset[i])\n",
    "    \n",
    "    \n",
    "    speed_kts_subset[i] = float(speed_kts_subset[i])\n",
    "    \n",
    "    \n",
    "    bearing_subset[i] = float(bearing[_subseti])\n",
    "    \n",
    "    \n",
    "    range_sm_subset[i] = float(range_sm_subset[i])\n"
   ]
  },
  {
   "cell_type": "markdown",
   "id": "550558da",
   "metadata": {},
   "source": [
    "### ADD UNITS ###\n",
    "Add units using metpy.\n",
    "\n",
    "Make sure to identify which variables need units.\n",
    "\n",
    "https://unidata.github.io/MetPy/latest/tutorials/unit_tutorial.html"
   ]
  },
  {
   "cell_type": "code",
   "execution_count": null,
   "id": "d759caa8",
   "metadata": {},
   "outputs": [],
   "source": []
  },
  {
   "cell_type": "markdown",
   "id": "2de14125",
   "metadata": {},
   "source": [
    "### CONVERT WINDS TO U,V COMPONENTS ###\n",
    "For this, we will be using the metpy.calc.wind_components() function.  This has been imported as wind_components(). \n",
    "\n",
    "https://unidata.github.io/MetPy/latest/api/generated/metpy.calc.wind_components.html\n",
    "\n",
    "Please see the website above to understand how this function works."
   ]
  },
  {
   "cell_type": "code",
   "execution_count": null,
   "id": "f439cc83",
   "metadata": {},
   "outputs": [],
   "source": []
  },
  {
   "cell_type": "markdown",
   "id": "1a8467cf",
   "metadata": {},
   "source": [
    "### CONVERT U,V WINDS TO M/S ###"
   ]
  },
  {
   "cell_type": "code",
   "execution_count": null,
   "id": "9ba4b1b9",
   "metadata": {},
   "outputs": [],
   "source": []
  },
  {
   "cell_type": "markdown",
   "id": "b93037f8",
   "metadata": {},
   "source": [
    "### PRINT DATA ###\n",
    "Print the sounding location and the time of the sounding.\n",
    "\n",
    "Then for each 4 or 5 level-code level, print the pressure (in mb), height (in meters), temperature (in degrees Celsius), dewpoint temperature (in degrees Celsius), u and v wind components (in m/s) with commas separating each value.  Make sure to include units."
   ]
  },
  {
   "cell_type": "code",
   "execution_count": null,
   "id": "5d171fd1",
   "metadata": {},
   "outputs": [],
   "source": []
  },
  {
   "cell_type": "markdown",
   "id": "4217c837",
   "metadata": {},
   "source": [
    "### SAVE TO CSV FILE ###\n",
    "Save to CSV without units.  The CSV file should be named KBIS_sounding.csv. Include the following header:\n",
    "\n",
    "{STATION} - {VALID UTC}<br>\n",
    "pressure[mb],height[m],temperature[degC],dewpoint[degC],u-wind[m/s],v-wind[m/s]\n",
    "\n",
    "Make sure that the winds are limited to 2 decimal places."
   ]
  },
  {
   "cell_type": "code",
   "execution_count": null,
   "id": "0a123e09",
   "metadata": {},
   "outputs": [],
   "source": []
  },
  {
   "cell_type": "markdown",
   "id": "cccc9432",
   "metadata": {},
   "source": [
    "### OPEN THE CSV FILE IN NUMPY ###\n",
    "\n",
    "Here, we are going to use the numpy genfromtxt() function - np.genfromtxt()\n",
    "\n",
    "https://numpy.org/doc/stable/reference/generated/numpy.genfromtxt.html\n",
    "\n",
    "use the names press,height,temp,dwpt,u,v"
   ]
  },
  {
   "cell_type": "code",
   "execution_count": null,
   "id": "0db560cc",
   "metadata": {},
   "outputs": [],
   "source": []
  },
  {
   "cell_type": "markdown",
   "id": "717119e8",
   "metadata": {},
   "source": [
    "### RUN THE CELL BELOW ###\n",
    "If the code above was correct, it should print out the pressure as an array, then temperature as an array, and finally, u-wind component as an array - all with units.\n",
    "\n",
    "Note that the units are now outside the array instead of applied to each element as they were in the list."
   ]
  },
  {
   "cell_type": "code",
   "execution_count": null,
   "id": "2d50731a",
   "metadata": {},
   "outputs": [],
   "source": []
  },
  {
   "cell_type": "markdown",
   "id": "c73a0ad7",
   "metadata": {},
   "source": [
    "### OPEN THE CSV FILE IN PANDAS ###\n",
    "Now we are going to open the CSV file into a pandas dataframe.\n",
    "\n",
    "Dataframes are somewhat like arrays but a bit more complicated.\n",
    "\n",
    "Here, we will use the pandas.read_csv() function - pd.read_csv()\n",
    "\n",
    "Use the same names as above.\n",
    "\n",
    "https://pandas.pydata.org/docs/reference/api/pandas.read_csv.html"
   ]
  },
  {
   "cell_type": "code",
   "execution_count": null,
   "id": "3299a386",
   "metadata": {},
   "outputs": [],
   "source": []
  },
  {
   "cell_type": "markdown",
   "id": "6eeb0151",
   "metadata": {},
   "source": [
    "### NOW PRINT THE DATAFRAME ###\n",
    "If done correctly, you should see the column names auto-populated."
   ]
  },
  {
   "cell_type": "code",
   "execution_count": null,
   "id": "f053bec3",
   "metadata": {},
   "outputs": [],
   "source": []
  }
 ],
 "metadata": {
  "kernelspec": {
   "display_name": "Python 3 (ipykernel)",
   "language": "python",
   "name": "python3"
  },
  "language_info": {
   "codemirror_mode": {
    "name": "ipython",
    "version": 3
   },
   "file_extension": ".py",
   "mimetype": "text/x-python",
   "name": "python",
   "nbconvert_exporter": "python",
   "pygments_lexer": "ipython3",
   "version": "3.11.7"
  }
 },
 "nbformat": 4,
 "nbformat_minor": 5
}
