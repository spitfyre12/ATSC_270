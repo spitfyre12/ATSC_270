{
 "cells": [
  {
   "cell_type": "code",
   "execution_count": null,
   "id": "956cda79-b601-4804-a51c-a91efb2a90af",
   "metadata": {},
   "outputs": [],
   "source": [
    "from netCDF4 import Dataset\n",
    "import numpy as np\n",
    "from metpy.plots import wx_code_to_numeric\n",
    "import pandas as pd"
   ]
  },
  {
   "cell_type": "code",
   "execution_count": null,
   "id": "c9981ca1-e372-4ecc-a270-b1060054f0d8",
   "metadata": {},
   "outputs": [],
   "source": [
    "data = Dataset('.20190527_1900')"
   ]
  },
  {
   "cell_type": "code",
   "execution_count": null,
   "id": "fd8b16b1-2c7a-4b2f-888f-548a722ec479",
   "metadata": {},
   "outputs": [],
   "source": [
    "#Read in variables needed for plotting surface station plots\n",
    "\n",
    "station_name = data.variables['stationName'[:]\n",
    "latitude = data.variables['latitude'][:]\n",
    "longitude = data.variables['longitude'][:]\n",
    "temp = data.variables['temperature'][:]\n",
    "dwpt = data.variables['dewpoint'][:]\n",
    "wspd = data.variables['windSpeed'][:]\n",
    "wdir = data.variables['windDir'][:]\n",
    "gust = data.variables['windGust'][:]\n",
    "weather = data.variables['presWeather'][:]\n",
    "visibility = data.variables['visibility'][:]\n",
    "pslp = data.variables['seaLevelPress'][:]\n"
   ]
  },
  {
   "cell_type": "code",
   "execution_count": null,
   "id": "f884f5e2-5f08-4e6f-8fab-871bfda5cc49",
   "metadata": {},
   "outputs": [],
   "source": [
    "#Convert station names from masked byte array to list of strings\n",
    "\n",
    "stn_names = ['']*len(station_name)]\n",
    "\n",
    "for index in range(len(station_name)):\n",
    "    stn = [station_name[index].tobytes().decode().rstrip('\\x00')\n",
    "    stn_names[index] = stn       \n",
    "\n",
    "#Convert present weather from a masked byte array to a list of strings\n",
    "cur_wx = ['']*len(weather)\n",
    "for index in range(len(weather)):\n",
    "    wx = weather[index].tobytes().decode().rstrip('\\x00')\n",
    "    cur_wx[index] = wx\n",
    "\n",
    "#Converting the current weather string to numerical value for metpy plotting\n",
    "wx_codes = wx_code_to_numeric(cur_wx)\n",
    "#for i in range(len(wx_codes)):\n",
    "    #print(cur_wx[i],wx_codes[i])\n",
    "\n",
    "\n",
    "#To check:\n",
    "\n",
    "#for index in range(len(weather)):\n",
    "    #print(weather[index])\n",
    "\n",
    "#prints out ['NZCM\\X00']\n",
    "#then use rstrip to get: ['NZCM']\n",
    "\n",
    "#How could we do this for all the elements? Put it in a loop!\n",
    "\n",
    "#netCDF files do not like using strings!!! Use an empty string [''] for stn_names instead of numpy!!"
   ]
  },
  {
   "cell_type": "code",
   "execution_count": null,
   "id": "d87cca79-67eb-4d80-9cb6-8819775e767e",
   "metadata": {},
   "outputs": [],
   "source": [
    "#Convert our data to a pandas dataframe\n",
    "data_for_df = [stn_names,latitude,longitude,wdir,wspd,gust,visibility,wx_codes,temp,dwpt,pslp]\n",
    "col_names = ['station_id', 'latitude', 'longitude', 'wind_direction', 'wind_speed', 'wind_gust', 'visibility', 'current_wx1_symbol',\n",
    "                'air_temperature', 'dew_point_temperature', 'air_pressure_at_sea_level']\n",
    "\n",
    "                \n",
    "df = pd.DataFrame(data=data_for_df, index=stn_names, columns=col_names)"
   ]
  }
 ],
 "metadata": {
  "kernelspec": {
   "display_name": "Python 3 (ipykernel)",
   "language": "python",
   "name": "python3"
  },
  "language_info": {
   "codemirror_mode": {
    "name": "ipython",
    "version": 3
   },
   "file_extension": ".py",
   "mimetype": "text/x-python",
   "name": "python",
   "nbconvert_exporter": "python",
   "pygments_lexer": "ipython3",
   "version": "3.11.7"
  }
 },
 "nbformat": 4,
 "nbformat_minor": 5
}
